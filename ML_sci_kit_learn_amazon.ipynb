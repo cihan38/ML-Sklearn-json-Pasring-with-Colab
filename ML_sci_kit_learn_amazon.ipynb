{
  "nbformat": 4,
  "nbformat_minor": 0,
  "metadata": {
    "colab": {
      "name": " ML sci-kit learn amazon",
      "provenance": [],
      "collapsed_sections": [
        "daE6TG6Fc5zE",
        "A3euZHnOu5Hz",
        "Q7SNTx-4u5Ss"
      ],
      "machine_shape": "hm",
      "include_colab_link": true
    },
    "kernelspec": {
      "name": "python3",
      "display_name": "Python 3"
    },
    "accelerator": "TPU"
  },
  "cells": [
    {
      "cell_type": "markdown",
      "metadata": {
        "id": "view-in-github",
        "colab_type": "text"
      },
      "source": [
        "<a href=\"https://colab.research.google.com/github/cihan38/ML-Sklearn-json-parse-with-Colab/blob/master/ML_sci_kit_learn_amazon.ipynb\" target=\"_parent\"><img src=\"https://colab.research.google.com/assets/colab-badge.svg\" alt=\"Open In Colab\"/></a>"
      ]
    },
    {
      "cell_type": "markdown",
      "metadata": {
        "id": "xqAcDH-i_uie",
        "colab_type": "text"
      },
      "source": [
        "#Hello everybody! \n",
        "\n",
        "#Mount drive and TPU runtime\n",
        "\n",
        "We now continue onto analyzing the Amazon reviews data using machine learning via scikit-learn.  We will predict customer numerical ratings (ranging from 1 to 5) using their written reviews. This is an example of supervised learning since we will provide labels for our predictions. \n",
        "  \n",
        "Please visit my previous post (json_prsing_colab.ipynb) in this repository where you will find instructions on how to mount your Google Drive to Colab.\n",
        "\n",
        "Before the analyses, go to Colab, select “Runtime” and select “Change runtime type.” Change your “Hardware accelerator” to “TPU” and save it. Now you can get help from Google’s Compute Engine (i.e., cloud computing). This will prevent potential crashes while running the codes in Colab (i.e., for loop). Some computers/laptops may not have enough ram/memory which may increase the likelihood of a crash during the runtime. This is why I love Colab as it allows us to access Google’s cloud computing while providing an extra boost to our computers at no cost.\n",
        "\n"
      ]
    },
    {
      "cell_type": "code",
      "metadata": {
        "id": "F_rR-oGOxcku",
        "colab_type": "code",
        "outputId": "9834c181-0d75-46e9-d407-4ce98579952e",
        "colab": {
          "base_uri": "https://localhost:8080/",
          "height": 35
        }
      },
      "source": [
        "from google.colab import drive\n",
        "drive.mount('/content/drive')"
      ],
      "execution_count": 0,
      "outputs": [
        {
          "output_type": "stream",
          "text": [
            "Drive already mounted at /content/drive; to attempt to forcibly remount, call drive.mount(\"/content/drive\", force_remount=True).\n"
          ],
          "name": "stdout"
        }
      ]
    },
    {
      "cell_type": "markdown",
      "metadata": {
        "id": "HiFOAuEnAMsq",
        "colab_type": "text"
      },
      "source": [
        "\n",
        "#Glob Module to merge \n",
        "\n",
        "Glob module is very useful at reading multiple files located in a single folder. With Glob module, four json files were merged into a single file in my Google Drive (for more information, see: https://docs.python.org/3/library/glob.html)\n",
        "We can use “*” as a special character (see the folder path below for an example: “*.json” ) to select all of the files containing the “.json” extension.  \n",
        "Set “output” as an empty list. Now we can transfer this into a Python list. We can read the first five lines and identify the dictionary values and keys. As we can see, it is a dictionary within a list. \n",
        " \n"
      ]
    },
    {
      "cell_type": "code",
      "metadata": {
        "id": "B_2S-buXBMIl",
        "colab_type": "code",
        "outputId": "ccf9d26a-7493-4351-f8de-ca5ac6b92790",
        "colab": {
          "base_uri": "https://localhost:8080/",
          "height": 55
        }
      },
      "source": [
        "import json\n",
        "import glob\n",
        "\n",
        "read_files = glob.glob('/content/drive/My Drive/amazon large data/*.json')\n",
        "\n",
        "output = []\n",
        "for f in read_files:\n",
        "  with open(f) as infile:\n",
        "    for line in infile:\n",
        "      output.append(json.loads(line))\n",
        "\n",
        "print(output[0:5])"
      ],
      "execution_count": 0,
      "outputs": [
        {
          "output_type": "stream",
          "text": [
            "[{'reviewerID': 'A1E0B5OTKOZ0S7', 'asin': 'B0033H7VI6', 'reviewerName': 'Sexybutt', 'helpful': [0, 0], 'reviewText': \"The hell? I don't remember buying it, but it's in my orders? Well, Like the knife, just don't like the sheath, the sheath sucks! Too bulky.\", 'overall': 5.0, 'summary': 'When the hell did I buy this?', 'unixReviewTime': 1391385600, 'reviewTime': '02 3, 2014'}, {'reviewerID': 'AOUCACT2WQPM0', 'asin': 'B000BFXQHS', 'reviewerName': 'Patrick Shaffer', 'helpful': [0, 0], 'reviewText': \"I don't consider my forearms to be particularly large and maybe I just need to find a better fit but I've used this for a while now and don't really love it. I am constantly readjusting it after a few pulls.\", 'overall': 3.0, 'summary': 'Good for average to smaller forearms', 'unixReviewTime': 1398988800, 'reviewTime': '05 2, 2014'}, {'reviewerID': 'A51U442TJ00T0', 'asin': 'B0000C52LF', 'reviewerName': 'Perry J Smith', 'helpful': [0, 0], 'reviewText': 'Looks like a great holster, but did not work out for my S&W 686 - Plus seven round revolver.  Just too to to use and no way to adjust.  Also does not allow for changing out the belt attachment like the Blackhawks.', 'overall': 4.0, 'summary': 'L/K Frame Yes, but not S&W 686-Plus Model', 'unixReviewTime': 1404518400, 'reviewTime': '07 5, 2014'}, {'reviewerID': 'A1H4IKJPOSD6T7', 'asin': 'B001UEL76Q', 'reviewerName': 'davmojc', 'helpful': [0, 0], 'reviewText': 'I love my Esbit 5 piece trekking stove. Looking forward to do bicycle touring with it. Very lightweight. Fun for out doors.', 'overall': 5.0, 'summary': 'Great stove for bicycle touring .', 'unixReviewTime': 1389139200, 'reviewTime': '01 8, 2014'}, {'reviewerID': 'A1NHB2VC68YQNM', 'asin': 'B00I0HQ4MS', 'reviewerName': 'Nurse Farrugia', 'helpful': [0, 0], 'reviewText': 'Fit is great. Good quality. Love the wrist supports. Makes it easier on my  hands at the gym. Thanks so much.', 'overall': 5.0, 'summary': 'Love love love', 'unixReviewTime': 1403913600, 'reviewTime': '06 28, 2014'}]\n"
          ],
          "name": "stdout"
        }
      ]
    },
    {
      "cell_type": "markdown",
      "metadata": {
        "id": "ZjNAXTSoBOyc",
        "colab_type": "text"
      },
      "source": [
        "\n",
        "#Writing/saving \n",
        "\n",
        "The merged file (“data.json”) was saved into my Google Drive (this is optional).\n"
      ]
    },
    {
      "cell_type": "code",
      "metadata": {
        "id": "Sik5KviqzxKb",
        "colab_type": "code",
        "colab": {}
      },
      "source": [
        "with open('/content/drive/My Drive/amazon large data/data.json', 'w') as f:\n",
        "\tfor line in output:\n",
        "\t\tf.write(json.dumps(line)+'\\n')"
      ],
      "execution_count": 0,
      "outputs": []
    },
    {
      "cell_type": "markdown",
      "metadata": {
        "id": "I7T0qrT3FJU7",
        "colab_type": "text"
      },
      "source": [
        "\n",
        "#Checking the data\n",
        "\n",
        "We successfully merged and saved the data. Using \"for loop\" we can store the json file into a list prior to the analyses. The merged data includes 40000 reviews (each json file has 10000 reviews).\n",
        "\n"
      ]
    },
    {
      "cell_type": "code",
      "metadata": {
        "id": "mbl1_BuXnhjl",
        "colab_type": "code",
        "outputId": "825d4688-c5e3-469d-dd83-def897f9c56a",
        "colab": {
          "base_uri": "https://localhost:8080/",
          "height": 54
        }
      },
      "source": [
        "import json\n",
        "\n",
        "data = \"/content/drive/My Drive/amazon large data/data.json\"\n",
        "\n",
        "data_list= []\n",
        "with open(data) as f:\n",
        "  for line in f:\n",
        "    data_list.append(json.loads(line))\n",
        "\n",
        "print(len(data_list))\n",
        "print(type(data_list))"
      ],
      "execution_count": 0,
      "outputs": [
        {
          "output_type": "stream",
          "text": [
            "40000\n",
            "<class 'list'>\n"
          ],
          "name": "stdout"
        }
      ]
    },
    {
      "cell_type": "markdown",
      "metadata": {
        "id": "_ItNh3cRG40-",
        "colab_type": "text"
      },
      "source": [
        "\n",
        "#Pandas module\n",
        "\n",
        "Many data scientists use the Pandas module in Python because it is both versatile and very easy to use. We can easily obtain summary statistics for our data using Pandas.  While Pandas is capable of running various analyses, we will only be using it to obtain summary statistics of “overall” numerical ratings (ranging from 1 to 5 with 1 indicating low and 5 indicating high product ratings). Keep in mind that we are trying to predict the overall numerical rating using machine learning.\n",
        "\n",
        "The frequency distribution reveals that the vast majority of Amazon reviews had overall numerical ratings as 5 stars (i.e., 24767 reviews).  This indicates an uneven distribution of Amazon numerical reviews across the different ratings.\n"
      ]
    },
    {
      "cell_type": "code",
      "metadata": {
        "id": "ybi7B9FnCXfN",
        "colab_type": "code",
        "outputId": "4058e47d-bf49-4f83-c613-f4721c44ae2c",
        "colab": {
          "base_uri": "https://localhost:8080/",
          "height": 126
        }
      },
      "source": [
        "import pandas as pd\n",
        "\n",
        "df = pd.DataFrame(data_list)\n",
        "\n",
        "freq_overall = df['overall'].value_counts()\n",
        "\n",
        "print(freq_overall) \n"
      ],
      "execution_count": 0,
      "outputs": [
        {
          "output_type": "stream",
          "text": [
            "5.0    24765\n",
            "4.0     8177\n",
            "3.0     3684\n",
            "2.0     1740\n",
            "1.0     1634\n",
            "Name: overall, dtype: int64\n"
          ],
          "name": "stdout"
        }
      ]
    },
    {
      "cell_type": "markdown",
      "metadata": {
        "id": "cKN27UIJXZIX",
        "colab_type": "text"
      },
      "source": [
        "\n",
        "#Visualization\n",
        " \n",
        "I also recommend that you visualize the frequency distribution to see if the reviews are evenly distributed (in the above cell, we discovered that the data is not evenly distributed but we will visualize that here). The graph indicates that the majority of the reviews are 5 star reviews. \n",
        "For fun, I used the code “plt.xkcd()” to change the style of the graph.  This code coverts the appearance of my graph to a comic book style.  Be aware that matplotlib includes different graph/chart styles for visualization of the data. \n"
      ]
    },
    {
      "cell_type": "code",
      "metadata": {
        "id": "rH7SSiZAnPVv",
        "colab_type": "code",
        "outputId": "3a25f2a9-0d57-4904-a077-3f3f67eda2c9",
        "colab": {
          "base_uri": "https://localhost:8080/",
          "height": 310
        }
      },
      "source": [
        "from matplotlib import pyplot as plt\n",
        "overall_values = set(df['overall'].values)\n",
        "overall_values = list(overall_values)[::-1]\n",
        "\n",
        "plt.xkcd()\n",
        "\n",
        "width = 0.5\n",
        "\n",
        "plt.bar(overall_values, freq_overall,  width = width)\n",
        "\n",
        "plt.ylabel(\"Frequency of Overall Rating\")\n",
        "plt.xticks(overall_values, ('5', '4', '3', '2', '1'))\n",
        "plt.xlabel(\"Rating\")\n",
        "plt.show()\n",
        "\n"
      ],
      "execution_count": 0,
      "outputs": [
        {
          "output_type": "stream",
          "text": [
            "findfont: Font family ['xkcd', 'xkcd Script', 'Humor Sans', 'Comic Sans MS'] not found. Falling back to DejaVu Sans.\n"
          ],
          "name": "stderr"
        },
        {
          "output_type": "display_data",
          "data": {
            "image/png": "[encoded data removed]",
            "text/plain": [
              "<Figure size 432x288 with 1 Axes>"
            ]
          },
          "metadata": {
            "tags": []
          }
        }
      ]
    },
    {
      "cell_type": "markdown",
      "metadata": {
        "id": "skKeRpM0Yemk",
        "colab_type": "text"
      },
      "source": [
        "#Grouping/screening/cleaning data\n",
        "\n",
        "Class method is a very useful way of grouping and cleaning the data. We can embed various functions into a class. I used two classes for grouping the data. \n",
        "\n",
        "The class labeled as “Content\" has additional functions for grouping and cleaning (tokenization) the words in the data.\n",
        "\n",
        "Recall in the previous two cells, we explored the distribution of reviews across the 5 star rating system.  Since we discovered that the reviews are unevenly distributed across the 5 review categories, we will need to group these categories to make the distribution more even.  To do this, we will use the “get_rate” function to group reviews with 4 and 5 star ratings as “HIGH\" and 1 and 2 star ratings as “LOW.”  Reviews with 3 stars will be labeled as “MIXED” and will be excluded from our analyses. However, you can practice the analyses by including the mixed reviews (i.e., reviews rated as 3 stars) if you wish. \n",
        "\n",
        "In order to call the “clean_str” function, we have to import a “re” module (i.e., regular expression). This is commonly used for altering the text, in this case, the text of the reviews. For example, all of the words were altered by changing all capital letters to lower case letters.\n",
        "\n",
        "For more info, see the following: Tokenization/string cleaning for all datasets except for SST.\n",
        "Original taken from https://github.com/yoonkim/CNN_sentence/blob/master/process_data.py\n",
        "\n"
      ]
    },
    {
      "cell_type": "code",
      "metadata": {
        "id": "AG2i1IiswBuH",
        "colab_type": "code",
        "colab": {}
      },
      "source": [
        "import re\n",
        "\n",
        "class Rate:\n",
        "  HIGH = \"HIGH\"\n",
        "  MIXED = \"MIXED\"\n",
        "  LOW = \"LOW\"\n",
        "  \n",
        "class Content:\n",
        "  def __init__(self, content, rating, sumcontent):\n",
        "    self.content = content\n",
        "    self.rating = rating\n",
        "    self.sumcontent = sumcontent\n",
        "    self.rate= self.get_rate()\n",
        "    self.content = self.clean_str(content)\n",
        "      \n",
        "  def get_rate(self):\n",
        "    if self.rating >= 4:             \n",
        "      return Rate.HIGH    \n",
        "    elif self.rating == 3:\n",
        "      return Rate.MIXED\n",
        "    else:\n",
        "      return Rate.LOW \n",
        "        \n",
        "  def clean_str(self, content):\n",
        "    \n",
        "    content = re.sub(r\"[^A-Za-z0-9(),!?\\'\\`]\", \" \", content)\n",
        "    content = re.sub(r\"\\'s\", \" \\'s\", content)\n",
        "    content = re.sub(r\"\\'ve\", \" \\'ve\", content)\n",
        "    content = re.sub(r\"n\\'t\", \" n\\'t\", content)\n",
        "    content = re.sub(r\"\\'re\", \" \\'re\", content)\n",
        "    content = re.sub(r\"\\'d\", \" \\'d\", content)\n",
        "    content = re.sub(r\"\\'ll\", \" \\'ll\", content)\n",
        "    content = re.sub(r\",\", \" , \", content)\n",
        "    content = re.sub(r\"!\", \" ! \", content)\n",
        "    content = re.sub(r\"\\(\", \" \\( \", content)\n",
        "    content = re.sub(r\"\\)\", \" \\) \", content)\n",
        "    content = re.sub(r\"\\?\", \" \\? \", content)\n",
        "    content = re.sub(r\"\\s{2,}\", \" \", content)\n",
        "    return content.strip().lower()\n",
        "    \n",
        "# class ReviewSample:\n",
        "\n",
        "#   def __init__(self, texts):\n",
        "#     self.texts = texts\n",
        "\n",
        "#   def get_text(self):\n",
        "#     return [x.content for x in self.texts]\n",
        "   \n",
        "#   def get_rating(self):\n",
        "#     return [x.rating for x in self.texts]\n",
        "  \n",
        "  # def evenly_distribute(self): \n",
        "  #   low = list(filter(lambda x: x.rate == Rate.LOW, self.texts)) \n",
        "  #   high = list(filter(lambda x: x.rate == Rate.HIGH, self.texts))\n",
        "       \n",
        "  #   high_sample = high[:len(low)]\n",
        "  #   self.texts = low + high_sample \n",
        "  #   random.shuffle(self.texts)\n",
        "    \n",
        "  #   print(low[0].content)\n",
        "  #   print(len(low))\n",
        "  #   print(len(high))\n"
      ],
      "execution_count": 0,
      "outputs": []
    },
    {
      "cell_type": "markdown",
      "metadata": {
        "id": "gQDWMC0kXIo2",
        "colab_type": "text"
      },
      "source": [
        "#Tokenization/cleaning\n",
        "\n",
        "I extracted three dictionary values using the following keys: “reviewText,” ''overall,” and “summary.”  \n",
        "\n",
        "“reviewText” contains customers’ comments of the product. \n",
        "“overall” includes the numerical ratings ranging from 1 (lowest) to 5 (highest). \n",
        "Finally, “summary” is a condensed version of “reviewText.”  Be aware that while similar, these values of these two keys are not the same as they may contain different words. \n",
        " As you can see from the text, positive written feedback corresponds with the numerical rating 5.\n"
      ]
    },
    {
      "cell_type": "code",
      "metadata": {
        "colab_type": "code",
        "outputId": "bd73ebb1-74ac-478d-c271-e3ff689ec2d5",
        "id": "VEoQ1_My4rD7",
        "colab": {
          "base_uri": "https://localhost:8080/",
          "height": 74
        }
      },
      "source": [
        "data = \"/content/drive/My Drive/amazon large data/data.json\"\n",
        "\n",
        "df_list =[]\n",
        "with open(data) as f:\n",
        "  for line in f:\n",
        "    text =json.loads(line)\n",
        "    df_list.append(Content(text['reviewText'], text['overall'], text['summary']))\n",
        "\n",
        "print(df_list[5].rating)\n",
        "print(df_list[5].content)"
      ],
      "execution_count": 0,
      "outputs": [
        {
          "output_type": "stream",
          "text": [
            "5.0\n",
            "i keep this in my bailout bag and i'm really happy with it have n't had any issues with its use , however i would like for the chain that holds the two pieces together to be a little more durable i 'll probably just end up getting a little container to keep it in\n"
          ],
          "name": "stdout"
        }
      ]
    },
    {
      "cell_type": "markdown",
      "metadata": {
        "id": "MZc3UhukOcGL",
        "colab_type": "text"
      },
      "source": [
        "#Analyses\n",
        "\n",
        "The Sklearn module will be used. We will use supervised learning because we assigned labels (i.e., low and high ratings).\n",
        "\n",
        "There are several ML models at our disposal. I will use some of them as an example. Prior to the analyses, we need to shuffle the data to prevent any potential biases during the analyses.\n",
        "\n",
        "We need to split the data for training and testing. We will split the data 70 percent for training and 30 percent for testing (28000 and 12000 reviews, respectively). If you do not specify the split, then the default will be 75 percent training and 25 percent testing. We will also select 42 as a random state so that each time we rerun the data we can obtain the same results.\n"
      ]
    },
    {
      "cell_type": "code",
      "metadata": {
        "colab_type": "code",
        "id": "EuV5qcLL4p7z",
        "colab": {}
      },
      "source": [
        "import sklearn\n",
        "from sklearn.model_selection import train_test_split\n",
        "\n",
        "df_list = sklearn.utils.shuffle(df_list)\n",
        "training, test=train_test_split(df_list, test_size=0.3, random_state =42)\n",
        "\n",
        "# sample = ReviewSample(training)\n",
        "# sample.evenly_distribute()\n"
      ],
      "execution_count": 0,
      "outputs": []
    },
    {
      "cell_type": "markdown",
      "metadata": {
        "id": "ZG3qi6CJtq02",
        "colab_type": "text"
      },
      "source": [
        "\n",
        "\n",
        "Prior to analysis, I ensure that rating, content, and summary content(sumcontent) are correct.\n"
      ]
    },
    {
      "cell_type": "code",
      "metadata": {
        "colab_type": "code",
        "outputId": "3c1d5e1f-4e6e-4aae-8b87-e34383f17814",
        "id": "d2GzZ1ziNGSx",
        "colab": {
          "base_uri": "https://localhost:8080/",
          "height": 92
        }
      },
      "source": [
        "print(training[0].rating)\n",
        "print(training[0].content)\n",
        "print(training[0].sumcontent)\n"
      ],
      "execution_count": 0,
      "outputs": [
        {
          "output_type": "stream",
          "text": [
            "5.0\n",
            "i got this case for my daughter 's new kindle fire hd the good great fit , all buttons and ports accessible gives the desired protection when not in use travel nice auto on off by open close of the case , especially since the power button is on the back and was always having to feel around for it before \\( the other kindle fire had it on the side \\) the bad ca n't think of anythingi would definitely buy again\n",
            "Good case, nice design\n"
          ],
          "name": "stdout"
        }
      ]
    },
    {
      "cell_type": "markdown",
      "metadata": {
        "id": "j321UIbbuCks",
        "colab_type": "text"
      },
      "source": [
        "\n",
        "#List comprehension and splitting (training/testing) \n",
        "\n",
        "We will use a list comprehension method (a version of for loop). Of 40000 reviews, 28000 will be classified into the training set and 12000 will be classified into the testing set. In each set, we have x (content/text as a predictor) and y (rating as a predicted value). \n"
      ]
    },
    {
      "cell_type": "code",
      "metadata": {
        "colab_type": "code",
        "outputId": "b1636d55-866d-419e-a7c4-75562de5945c",
        "id": "1BWmJU6ENEHY",
        "colab": {
          "base_uri": "https://localhost:8080/",
          "height": 110
        }
      },
      "source": [
        "train_x = [x.content for x in training]\n",
        "train_y = [x.rate for x in training]\n",
        "\n",
        "test_x = [x.content for x in test]\n",
        "test_y = [x.rate for x in test]\n",
        "\n",
        "print(len(train_x))\n",
        "print(len(test_y))\n",
        "print(train_x[0])\n",
        "print(train_y[0])"
      ],
      "execution_count": 0,
      "outputs": [
        {
          "output_type": "stream",
          "text": [
            "28000\n",
            "12000\n",
            "i got this case for my daughter 's new kindle fire hd the good great fit , all buttons and ports accessible gives the desired protection when not in use travel nice auto on off by open close of the case , especially since the power button is on the back and was always having to feel around for it before \\( the other kindle fire had it on the side \\) the bad ca n't think of anythingi would definitely buy again\n",
            "HIGH\n"
          ],
          "name": "stdout"
        }
      ]
    },
    {
      "cell_type": "markdown",
      "metadata": {
        "id": "ZtX0WG-4ahc0",
        "colab_type": "text"
      },
      "source": [
        "#Bag of words vectorization\n",
        "\n",
        "Using “countervectorizer,” the data will be converted into a very big matrix (all ones and zeros).\n"
      ]
    },
    {
      "cell_type": "code",
      "metadata": {
        "id": "iogpDKM5aiq3",
        "colab_type": "code",
        "outputId": "f6a9231e-64dc-4d2d-99a4-f37ce08418d5",
        "colab": {
          "base_uri": "https://localhost:8080/",
          "height": 54
        }
      },
      "source": [
        "from sklearn.feature_extraction.text import CountVectorizer, TfidfVectorizer\n",
        "\n",
        "vectorizer = TfidfVectorizer()\n",
        "vectorizer.fit_transform(train_x)"
      ],
      "execution_count": 0,
      "outputs": [
        {
          "output_type": "execute_result",
          "data": {
            "text/plain": [
              "<28000x47049 sparse matrix of type '<class 'numpy.float64'>'\n",
              "\twith 1547191 stored elements in Compressed Sparse Row format>"
            ]
          },
          "metadata": {
            "tags": []
          },
          "execution_count": 16
        }
      ]
    },
    {
      "cell_type": "markdown",
      "metadata": {
        "id": "vET6M9dUvZB4",
        "colab_type": "text"
      },
      "source": [
        "\n",
        "#Array \n",
        "\n",
        "We can see that it is a big matrix\n",
        "\n",
        "We can see the matrix in an array. It has a lot of zeros and ones. \n"
      ]
    },
    {
      "cell_type": "code",
      "metadata": {
        "id": "MgYpUOXoc5iE",
        "colab_type": "code",
        "outputId": "bfbd5772-9b06-4403-c65a-de2ed5cac2d3",
        "colab": {
          "base_uri": "https://localhost:8080/",
          "height": 983
        }
      },
      "source": [
        "\n",
        "train_x_vectors= vectorizer.fit_transform(train_x)\n",
        "\n",
        "test_x_vectors =vectorizer.transform(test_x)\n",
        "print(train_x[0])\n",
        "print(train_x_vectors[0])"
      ],
      "execution_count": 0,
      "outputs": [
        {
          "output_type": "stream",
          "text": [
            "i got this case for my daughter 's new kindle fire hd the good great fit , all buttons and ports accessible gives the desired protection when not in use travel nice auto on off by open close of the case , especially since the power button is on the back and was always having to feel around for it before \\( the other kindle fire had it on the side \\) the bad ca n't think of anythingi would definitely buy again\n",
            "  (0, 3139)\t0.09833346577451593\n",
            "  (0, 7729)\t0.09535620781355228\n",
            "  (0, 12202)\t0.10698502378231169\n",
            "  (0, 46405)\t0.06850810084994934\n",
            "  (0, 4047)\t0.2769307294242484\n",
            "  (0, 41999)\t0.09542144313218423\n",
            "  (0, 7787)\t0.09980425354639037\n",
            "  (0, 5251)\t0.11224731185469604\n",
            "  (0, 37719)\t0.11737897662899298\n",
            "  (0, 19423)\t0.07351185208784725\n",
            "  (0, 29773)\t0.07874060622406459\n",
            "  (0, 5823)\t0.09943637078957937\n",
            "  (0, 22616)\t0.071991596799642\n",
            "  (0, 4395)\t0.10170859505626191\n",
            "  (0, 16479)\t0.09597591446172409\n",
            "  (0, 42428)\t0.03553515754419283\n",
            "  (0, 19873)\t0.11351724998127966\n",
            "  (0, 3594)\t0.10503046085188689\n",
            "  (0, 45364)\t0.055890867451711256\n",
            "  (0, 5185)\t0.09316944634755363\n",
            "  (0, 22528)\t0.04125745263581824\n",
            "  (0, 7715)\t0.146897194184462\n",
            "  (0, 32109)\t0.12183670065248361\n",
            "  (0, 37873)\t0.10234699738315706\n",
            "  (0, 15413)\t0.11839313156226267\n",
            "  :\t:\n",
            "  (0, 21491)\t0.046647613457000664\n",
            "  (0, 28809)\t0.05393630452128645\n",
            "  (0, 45784)\t0.0709269139658272\n",
            "  (0, 32864)\t0.14501768254333536\n",
            "  (0, 12598)\t0.18472737065110958\n",
            "  (0, 18453)\t0.1299318318047477\n",
            "  (0, 2561)\t0.19241205589533444\n",
            "  (0, 31984)\t0.15997203160561918\n",
            "  (0, 3804)\t0.06552562228275263\n",
            "  (0, 7717)\t0.15951800526891474\n",
            "  (0, 3449)\t0.06582801329039935\n",
            "  (0, 16863)\t0.1042327593082072\n",
            "  (0, 19000)\t0.0635977087649606\n",
            "  (0, 18702)\t0.06645331629207041\n",
            "  (0, 41798)\t0.2566195269916664\n",
            "  (0, 19924)\t0.15805889644852522\n",
            "  (0, 16787)\t0.293794388368924\n",
            "  (0, 23647)\t0.2895196712094503\n",
            "  (0, 28473)\t0.09887912791808615\n",
            "  (0, 11880)\t0.14079793797487397\n",
            "  (0, 28012)\t0.04654994241229151\n",
            "  (0, 17305)\t0.08527237025378077\n",
            "  (0, 8329)\t0.21296514884805492\n",
            "  (0, 42029)\t0.03701823383554667\n",
            "  (0, 18779)\t0.093849596922479\n"
          ],
          "name": "stdout"
        }
      ]
    },
    {
      "cell_type": "code",
      "metadata": {
        "id": "ucylfR56c5lD",
        "colab_type": "code",
        "outputId": "581fb531-7664-4f51-a0a2-da1f631541ee",
        "colab": {
          "base_uri": "https://localhost:8080/",
          "height": 35
        }
      },
      "source": [
        "print(train_x_vectors[0].toarray())"
      ],
      "execution_count": 0,
      "outputs": [
        {
          "output_type": "stream",
          "text": [
            "[[0. 0. 0. ... 0. 0. 0.]]\n"
          ],
          "name": "stdout"
        }
      ]
    },
    {
      "cell_type": "markdown",
      "metadata": {
        "id": "daE6TG6Fc5zE",
        "colab_type": "text"
      },
      "source": [
        "#Classificaiton and model specification\n",
        "\n",
        "###Decision tree"
      ]
    },
    {
      "cell_type": "code",
      "metadata": {
        "id": "Y1z-e-OvvBm2",
        "colab_type": "code",
        "outputId": "a452efbd-3537-4bd6-e369-d2d7948c2c11",
        "colab": {
          "base_uri": "https://localhost:8080/",
          "height": 35
        }
      },
      "source": [
        "from sklearn.tree import DecisionTreeClassifier\n",
        "\n",
        "clf_dec =DecisionTreeClassifier()\n",
        "clf_dec.fit(train_x_vectors, train_y)\n",
        "clf_dec.predict(test_x_vectors[0])\n"
      ],
      "execution_count": 0,
      "outputs": [
        {
          "output_type": "execute_result",
          "data": {
            "text/plain": [
              "array(['LOW'], dtype='<U5')"
            ]
          },
          "metadata": {
            "tags": []
          },
          "execution_count": 19
        }
      ]
    },
    {
      "cell_type": "markdown",
      "metadata": {
        "id": "c2WeGDBL7TWc",
        "colab_type": "text"
      },
      "source": [
        "#Forest of randomized trees \n"
      ]
    },
    {
      "cell_type": "code",
      "metadata": {
        "id": "BjbwzTAY3gZZ",
        "colab_type": "code",
        "outputId": "2deaac24-603b-4e1b-89e7-49b99b40dfc1",
        "colab": {
          "base_uri": "https://localhost:8080/",
          "height": 35
        }
      },
      "source": [
        "from sklearn.ensemble import RandomForestClassifier\n",
        "\n",
        "clf_rd =RandomForestClassifier(n_estimators=10)\n",
        "clf_rd.fit(train_x_vectors, train_y)\n",
        "clf_rd.predict(test_x_vectors[0])"
      ],
      "execution_count": 0,
      "outputs": [
        {
          "output_type": "execute_result",
          "data": {
            "text/plain": [
              "array(['HIGH'], dtype='<U5')"
            ]
          },
          "metadata": {
            "tags": []
          },
          "execution_count": 20
        }
      ]
    },
    {
      "cell_type": "code",
      "metadata": {
        "id": "bi_a6Fj7c5r8",
        "colab_type": "code",
        "outputId": "74a81bbf-7c75-44da-c456-18520cc0920d",
        "colab": {
          "base_uri": "https://localhost:8080/",
          "height": 35
        }
      },
      "source": [
        "from sklearn import svm\n",
        "\n",
        "clf_svm =svm.SVC(kernel='linear')\n",
        "\n",
        "clf_svm.fit(train_x_vectors, train_y)\n",
        "\n",
        "test_x[0]\n",
        "test_x_vectors[0]\n",
        "clf_svm.predict(test_x_vectors[0])"
      ],
      "execution_count": 0,
      "outputs": [
        {
          "output_type": "execute_result",
          "data": {
            "text/plain": [
              "array(['HIGH'], dtype='<U5')"
            ]
          },
          "metadata": {
            "tags": []
          },
          "execution_count": 21
        }
      ]
    },
    {
      "cell_type": "markdown",
      "metadata": {
        "id": "XOeq7ZEZW4kh",
        "colab_type": "text"
      },
      "source": [
        "#Naive base"
      ]
    },
    {
      "cell_type": "code",
      "metadata": {
        "id": "bj96pO36vuAl",
        "colab_type": "code",
        "outputId": "8d4ce5ac-c9ac-4a42-caf8-df267775917b",
        "colab": {
          "base_uri": "https://localhost:8080/",
          "height": 35
        }
      },
      "source": [
        "from sklearn.naive_bayes import GaussianNB\n",
        "\n",
        "clf_gnb = GaussianNB()\n",
        "clf_gnb.fit(train_x_vectors.toarray(), train_y)\n",
        "clf_gnb.predict(test_x_vectors[0].toarray())"
      ],
      "execution_count": 0,
      "outputs": [
        {
          "output_type": "execute_result",
          "data": {
            "text/plain": [
              "array(['MIXED'], dtype='<U5')"
            ]
          },
          "metadata": {
            "tags": []
          },
          "execution_count": 22
        }
      ]
    },
    {
      "cell_type": "markdown",
      "metadata": {
        "id": "A3euZHnOu5Hz",
        "colab_type": "text"
      },
      "source": [
        "#Logistic regression"
      ]
    },
    {
      "cell_type": "code",
      "metadata": {
        "id": "M0XlCi2fu5Ob",
        "colab_type": "code",
        "outputId": "1074bca4-6b9d-47d1-9222-a5a8b482e7f5",
        "colab": {
          "base_uri": "https://localhost:8080/",
          "height": 181
        }
      },
      "source": [
        "from sklearn.linear_model import LogisticRegression\n",
        "clf_log =LogisticRegression()\n",
        "clf_log.fit(train_x_vectors, train_y)\n",
        "clf_log.predict(test_x_vectors[0])"
      ],
      "execution_count": 0,
      "outputs": [
        {
          "output_type": "stream",
          "text": [
            "/usr/local/lib/python3.6/dist-packages/sklearn/linear_model/_logistic.py:940: ConvergenceWarning: lbfgs failed to converge (status=1):\n",
            "STOP: TOTAL NO. of ITERATIONS REACHED LIMIT.\n",
            "\n",
            "Increase the number of iterations (max_iter) or scale the data as shown in:\n",
            "    https://scikit-learn.org/stable/modules/preprocessing.html\n",
            "Please also refer to the documentation for alternative solver options:\n",
            "    https://scikit-learn.org/stable/modules/linear_model.html#logistic-regression\n",
            "  extra_warning_msg=_LOGISTIC_SOLVER_CONVERGENCE_MSG)\n"
          ],
          "name": "stderr"
        },
        {
          "output_type": "execute_result",
          "data": {
            "text/plain": [
              "array(['HIGH'], dtype='<U5')"
            ]
          },
          "metadata": {
            "tags": []
          },
          "execution_count": 23
        }
      ]
    },
    {
      "cell_type": "markdown",
      "metadata": {
        "id": "Pxauf7hVYjdq",
        "colab_type": "text"
      },
      "source": [
        "#Model Summary Statistics"
      ]
    },
    {
      "cell_type": "code",
      "metadata": {
        "id": "NTschWK0Y9SC",
        "colab_type": "code",
        "outputId": "94c93501-1a91-402a-c849-6c15c5bd22e4",
        "colab": {
          "base_uri": "https://localhost:8080/",
          "height": 54
        }
      },
      "source": [
        "print(clf_dec.score(test_x_vectors, test_y))\n",
        "print(clf_rd.score(test_x_vectors, test_y))\n"
      ],
      "execution_count": 0,
      "outputs": [
        {
          "output_type": "stream",
          "text": [
            "0.7614166666666666\n",
            "0.823\n"
          ],
          "name": "stdout"
        }
      ]
    },
    {
      "cell_type": "code",
      "metadata": {
        "id": "PGga5Nb_aD0d",
        "colab_type": "code",
        "outputId": "184e1293-1652-4946-f672-2ccf16d83720",
        "colab": {
          "base_uri": "https://localhost:8080/",
          "height": 35
        }
      },
      "source": [
        "print(clf_svm.score(test_x_vectors, test_y))"
      ],
      "execution_count": 0,
      "outputs": [
        {
          "output_type": "stream",
          "text": [
            "0.8499166666666667\n"
          ],
          "name": "stdout"
        }
      ]
    },
    {
      "cell_type": "code",
      "metadata": {
        "id": "I0h2ei-pZ7gk",
        "colab_type": "code",
        "outputId": "b30d975f-7f11-462b-c24e-2d31b66e60c6",
        "colab": {
          "base_uri": "https://localhost:8080/",
          "height": 54
        }
      },
      "source": [
        "print(clf_gnb.score(test_x_vectors.toarray(), test_y))\n",
        "print(clf_log.score(test_x_vectors, test_y))"
      ],
      "execution_count": 0,
      "outputs": [
        {
          "output_type": "stream",
          "text": [
            "0.4985\n",
            "0.8490833333333333\n"
          ],
          "name": "stdout"
        }
      ]
    },
    {
      "cell_type": "markdown",
      "metadata": {
        "id": "7luFNhkAdXHx",
        "colab_type": "text"
      },
      "source": [
        "#F1 Score / Balanced F-score"
      ]
    },
    {
      "cell_type": "code",
      "metadata": {
        "id": "74KKfRmbdsxF",
        "colab_type": "code",
        "outputId": "ee007475-0d09-41ba-a002-77d3dce0cb18",
        "colab": {
          "base_uri": "https://localhost:8080/",
          "height": 108
        }
      },
      "source": [
        "from sklearn.metrics import f1_score\n",
        "\n",
        "print(f1_score(test_y, clf_dec.predict(test_x_vectors), average=None, labels=[Rate.HIGH, Rate.LOW]))\n",
        "print(f1_score(test_y, clf_rd.predict(test_x_vectors), average=None, labels=[Rate.HIGH, Rate.LOW]))\n",
        "print(f1_score(test_y, clf_svm.predict(test_x_vectors), average=None, labels=[Rate.HIGH, Rate.LOW]))\n",
        "print(f1_score(test_y, clf_gnb.predict(test_x_vectors.toarray()), average=None, labels=[Rate.HIGH, Rate.LOW]))\n",
        "print(f1_score(test_y, clf_log.predict(test_x_vectors), average=None, labels=[Rate.HIGH, Rate.LOW]))"
      ],
      "execution_count": 0,
      "outputs": [
        {
          "output_type": "stream",
          "text": [
            "[0.87103065 0.27642276]\n",
            "[0.90314581 0.0707635 ]\n",
            "[0.91989834 0.47277556]\n",
            "[0.6610894  0.16949153]\n",
            "[0.92033474 0.44825223]\n"
          ],
          "name": "stdout"
        }
      ]
    },
    {
      "cell_type": "markdown",
      "metadata": {
        "id": "Q7SNTx-4u5Ss",
        "colab_type": "text"
      },
      "source": [
        "#Conclusion\n",
        "\n",
        "The model accuracy ranged from 50 percent to 85 percent. However, we will focus on only two models with the highest accuracy. SVM and log models produced around 85 percent accuracy.\n",
        "\n",
        "\n",
        "Now we can focus on the prediction accuracy of each category. As we can see, SVM produced higher accuracies for each category: the “HIGH” rating was 92 percent while the “LOW” rating was 47 percent. \n",
        "\n",
        "We have to be very cautious because the “LOW” category was only 47 percent accurate, which is not preferred. Therefore, we may want to increase the “LOW” category in the training set to even the training and testing sets.\n"
      ]
    }
  ]
}