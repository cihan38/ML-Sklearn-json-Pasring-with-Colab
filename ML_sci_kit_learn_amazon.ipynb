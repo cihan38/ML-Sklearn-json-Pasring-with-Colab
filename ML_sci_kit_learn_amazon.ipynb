{
  "nbformat": 4,
  "nbformat_minor": 0,
  "metadata": {
    "colab": {
      "name": "ML sci-kit learn amazon ",
      "provenance": [],
      "collapsed_sections": [
        "daE6TG6Fc5zE",
        "A3euZHnOu5Hz",
        "Q7SNTx-4u5Ss"
      ],
      "machine_shape": "hm",
      "include_colab_link": true
    },
    "kernelspec": {
      "name": "python3",
      "display_name": "Python 3"
    },
    "accelerator": "TPU"
  },
  "cells": [
    {
      "cell_type": "markdown",
      "metadata": {
        "id": "view-in-github",
        "colab_type": "text"
      },
      "source": [
        "<a href=\"https://colab.research.google.com/github/cihan38/ML-Sklearn-json-parse-with-Colab/blob/master/ML_sci_kit_learn_amazon.ipynb\" target=\"_parent\"><img src=\"https://colab.research.google.com/assets/colab-badge.svg\" alt=\"Open In Colab\"/></a>"
      ]
    },
    {
      "cell_type": "markdown",
      "metadata": {
        "id": "xqAcDH-i_uie",
        "colab_type": "text"
      },
      "source": [
        "#Hello everybody! \n",
        "\n",
        "#Mount drive and TPU runtime\n",
        "\n",
        "We now continue onto analyzing the Amazon reviews data using machine learning via scikit-learn.  We will predict customer numerical ratings (ranging from 1 to 5) using their written reviews. This is an example of supervised learning since we will provide labels for our predictions. \n",
        "  \n",
        "Please visit my previous post (json_prsing_colab.ipynb) in this repository where you will find instructions on how to mount your Google Drive to Colab.\n",
        "\n",
        "Before the analyses, go to Colab, select “Runtime” and select “Change runtime type.” Change your “Hardware accelerator” to “TPU” and save it. Now you can get help from Google’s Compute Engine (i.e., cloud computing). This will prevent potential crashes while running the codes in Colab (i.e., for loop). Some computers/laptops may not have enough ram/memory which may increase the likelihood of a crash during the runtime. This is why I love Colab as it allows us to access Google’s cloud computing while providing an extra boost to our computers at no cost.\n",
        "\n"
      ]
    },
    {
      "cell_type": "code",
      "metadata": {
        "id": "F_rR-oGOxcku",
        "colab_type": "code",
        "outputId": "1f27cb2c-baab-4ef5-b44b-befe9732f541",
        "colab": {
          "base_uri": "https://localhost:8080/",
          "height": 125
        }
      },
      "source": [
        "from google.colab import drive\n",
        "drive.mount('/content/drive')"
      ],
      "execution_count": 0,
      "outputs": [
        {
          "output_type": "stream",
          "text": [
            "Go to this URL in a browser: https://accounts.google.com/o/oauth2/auth?client_id=947318989803-6bn6qk8qdgf4n4g3pfee6491hc0brc4i.apps.googleusercontent.com&redirect_uri=urn%3aietf%3awg%3aoauth%3a2.0%3aoob&response_type=code&scope=email%20https%3a%2f%2fwww.googleapis.com%2fauth%2fdocs.test%20https%3a%2f%2fwww.googleapis.com%2fauth%2fdrive%20https%3a%2f%2fwww.googleapis.com%2fauth%2fdrive.photos.readonly%20https%3a%2f%2fwww.googleapis.com%2fauth%2fpeopleapi.readonly\n",
            "\n",
            "Enter your authorization code:\n",
            "··········\n",
            "Mounted at /content/drive\n"
          ],
          "name": "stdout"
        }
      ]
    },
    {
      "cell_type": "markdown",
      "metadata": {
        "id": "HiFOAuEnAMsq",
        "colab_type": "text"
      },
      "source": [
        "\n",
        "#Glob Module to merge \n",
        "\n",
        "Glob module is very useful at reading multiple files located in a single folder. With Glob module, four json files were merged into a single file in my Google Drive (for more information, see: https://docs.python.org/3/library/glob.html)\n",
        "We can use “*” as a special character (see the folder path below for an example: “*.json” ) to select all of the files containing the “.json” extension.  \n",
        "Set “output” as an empty list. Now we can transfer this into a Python list. We can read the first five lines and identify the dictionary values and keys. As we can see, it is a dictionary within a list. \n",
        " \n"
      ]
    },
    {
      "cell_type": "code",
      "metadata": {
        "id": "B_2S-buXBMIl",
        "colab_type": "code",
        "outputId": "f17d015a-753b-444b-8b19-2e2403dbcee7",
        "colab": {
          "base_uri": "https://localhost:8080/",
          "height": 54
        }
      },
      "source": [
        "import json\n",
        "import glob\n",
        "\n",
        "read_files = glob.glob('/content/drive/My Drive/amazon large data/*.json')\n",
        "\n",
        "output = []\n",
        "for f in read_files:\n",
        "  with open(f) as infile:\n",
        "    for line in infile:\n",
        "      output.append(json.loads(line))\n",
        "\n",
        "print(output[0:5])"
      ],
      "execution_count": 0,
      "outputs": [
        {
          "output_type": "stream",
          "text": [
            "[{'reviewerID': 'A1E0B5OTKOZ0S7', 'asin': 'B0033H7VI6', 'reviewerName': 'Sexybutt', 'helpful': [0, 0], 'reviewText': \"The hell? I don't remember buying it, but it's in my orders? Well, Like the knife, just don't like the sheath, the sheath sucks! Too bulky.\", 'overall': 5.0, 'summary': 'When the hell did I buy this?', 'unixReviewTime': 1391385600, 'reviewTime': '02 3, 2014'}, {'reviewerID': 'AOUCACT2WQPM0', 'asin': 'B000BFXQHS', 'reviewerName': 'Patrick Shaffer', 'helpful': [0, 0], 'reviewText': \"I don't consider my forearms to be particularly large and maybe I just need to find a better fit but I've used this for a while now and don't really love it. I am constantly readjusting it after a few pulls.\", 'overall': 3.0, 'summary': 'Good for average to smaller forearms', 'unixReviewTime': 1398988800, 'reviewTime': '05 2, 2014'}, {'reviewerID': 'A51U442TJ00T0', 'asin': 'B0000C52LF', 'reviewerName': 'Perry J Smith', 'helpful': [0, 0], 'reviewText': 'Looks like a great holster, but did not work out for my S&W 686 - Plus seven round revolver.  Just too to to use and no way to adjust.  Also does not allow for changing out the belt attachment like the Blackhawks.', 'overall': 4.0, 'summary': 'L/K Frame Yes, but not S&W 686-Plus Model', 'unixReviewTime': 1404518400, 'reviewTime': '07 5, 2014'}, {'reviewerID': 'A1H4IKJPOSD6T7', 'asin': 'B001UEL76Q', 'reviewerName': 'davmojc', 'helpful': [0, 0], 'reviewText': 'I love my Esbit 5 piece trekking stove. Looking forward to do bicycle touring with it. Very lightweight. Fun for out doors.', 'overall': 5.0, 'summary': 'Great stove for bicycle touring .', 'unixReviewTime': 1389139200, 'reviewTime': '01 8, 2014'}, {'reviewerID': 'A1NHB2VC68YQNM', 'asin': 'B00I0HQ4MS', 'reviewerName': 'Nurse Farrugia', 'helpful': [0, 0], 'reviewText': 'Fit is great. Good quality. Love the wrist supports. Makes it easier on my  hands at the gym. Thanks so much.', 'overall': 5.0, 'summary': 'Love love love', 'unixReviewTime': 1403913600, 'reviewTime': '06 28, 2014'}]\n"
          ],
          "name": "stdout"
        }
      ]
    },
    {
      "cell_type": "markdown",
      "metadata": {
        "id": "ZjNAXTSoBOyc",
        "colab_type": "text"
      },
      "source": [
        "\n",
        "#Writing/saving \n",
        "\n",
        "The merged file (“data.json”) was saved into my Google Drive (this is optional).\n"
      ]
    },
    {
      "cell_type": "code",
      "metadata": {
        "id": "Sik5KviqzxKb",
        "colab_type": "code",
        "colab": {}
      },
      "source": [
        "with open('/content/drive/My Drive/amazon large data/data.json', 'w') as f:\n",
        "\tfor line in output:\n",
        "\t\tf.write(json.dumps(line)+'\\n')"
      ],
      "execution_count": 0,
      "outputs": []
    },
    {
      "cell_type": "markdown",
      "metadata": {
        "id": "I7T0qrT3FJU7",
        "colab_type": "text"
      },
      "source": [
        "\n",
        "#Checking the data\n",
        "\n",
        "We successfully merged and saved the data. Using \"for loop\" we can store the json file into a list prior to the analyses. The merged data includes 40000 reviews (each json file has 10000 reviews).\n",
        "\n"
      ]
    },
    {
      "cell_type": "code",
      "metadata": {
        "id": "mbl1_BuXnhjl",
        "colab_type": "code",
        "outputId": "b1c307e0-771b-4a14-8d8b-72374128f291",
        "colab": {
          "base_uri": "https://localhost:8080/",
          "height": 52
        }
      },
      "source": [
        "import json\n",
        "\n",
        "data = \"/content/drive/My Drive/amazon large data/data.json\"\n",
        "\n",
        "data_list= []\n",
        "with open(data) as f:\n",
        "  for line in f:\n",
        "    data_list.append(json.loads(line))\n",
        "\n",
        "print(len(data_list))\n",
        "print(type(data_list))"
      ],
      "execution_count": 0,
      "outputs": [
        {
          "output_type": "stream",
          "text": [
            "40000\n",
            "<class 'list'>\n"
          ],
          "name": "stdout"
        }
      ]
    },
    {
      "cell_type": "markdown",
      "metadata": {
        "id": "_ItNh3cRG40-",
        "colab_type": "text"
      },
      "source": [
        "\n",
        "#Pandas module\n",
        "\n",
        "Many data scientists use the Pandas module in Python because it is both versatile and very easy to use. We can easily obtain summary statistics for our data using Pandas.  While Pandas is capable of running various analyses, we will only be using it to obtain summary statistics of “overall” numerical ratings (ranging from 1 to 5 with 1 indicating low and 5 indicating high product ratings). Keep in mind that we are trying to predict the overall numerical rating using machine learning.\n",
        "\n",
        "The frequency distribution reveals that the vast majority of Amazon reviews had overall numerical ratings as 5 stars (i.e., 24767 reviews).  This indicates an uneven distribution of Amazon numerical reviews across the different ratings.\n"
      ]
    },
    {
      "cell_type": "code",
      "metadata": {
        "id": "ybi7B9FnCXfN",
        "colab_type": "code",
        "outputId": "5ce24884-f2cd-4ae3-899e-f87d8c309efc",
        "colab": {
          "base_uri": "https://localhost:8080/",
          "height": 122
        }
      },
      "source": [
        "import pandas as pd\n",
        "\n",
        "df = pd.DataFrame(data_list)\n",
        "\n",
        "freq_overall = df['overall'].value_counts()\n",
        "\n",
        "print(freq_overall) \n"
      ],
      "execution_count": 0,
      "outputs": [
        {
          "output_type": "stream",
          "text": [
            "5.0    24767\n",
            "4.0     8183\n",
            "3.0     3653\n",
            "2.0     1775\n",
            "1.0     1622\n",
            "Name: overall, dtype: int64\n"
          ],
          "name": "stdout"
        }
      ]
    },
    {
      "cell_type": "markdown",
      "metadata": {
        "id": "cKN27UIJXZIX",
        "colab_type": "text"
      },
      "source": [
        "\n",
        "#Visualization\n",
        " \n",
        "I also recommend that you visualize the frequency distribution to see if the reviews are evenly distributed (in the above cell, we discovered that the data is not evenly distributed but we will visualize that here). The graph indicates that the majority of the reviews are 5 star reviews. \n",
        "For fun, I used the code “plt.xkcd()” to change the style of the graph.  This code coverts the appearance of my graph to a comic book style.  Be aware that matplotlib includes different graph/chart styles for visualization of the data. \n"
      ]
    },
    {
      "cell_type": "code",
      "metadata": {
        "id": "rH7SSiZAnPVv",
        "colab_type": "code",
        "outputId": "e08efa0a-fd42-46b2-e599-f4fb26d446a1",
        "colab": {
          "base_uri": "https://localhost:8080/",
          "height": 292
        }
      },
      "source": [
        "from matplotlib import pyplot as plt\n",
        "overall_values = set(df['overall'].values)\n",
        "overall_values = list(overall_values)[::-1]\n",
        "\n",
        "plt.xkcd()\n",
        "\n",
        "width = 0.5\n",
        "\n",
        "plt.bar(overall_values, freq_overall,  width = width)\n",
        "\n",
        "plt.ylabel(\"Frequency of Overall Rating\")\n",
        "plt.xticks(overall_values, ('5', '4', '3', '2', '1'))\n",
        "plt.xlabel(\"Rating\")\n",
        "plt.show()\n",
        "\n"
      ],
      "execution_count": 0,
      "outputs": [
        {
          "output_type": "display_data",
          "data": {
            "image/png": "[encoded data removed]",
            "text/plain": [
              "<Figure size 432x288 with 1 Axes>"
            ]
          },
          "metadata": {
            "tags": []
          }
        }
      ]
    },
    {
      "cell_type": "markdown",
      "metadata": {
        "id": "skKeRpM0Yemk",
        "colab_type": "text"
      },
      "source": [
        "#Grouping/screening/cleaning data\n",
        "\n",
        "Class method is a very useful way of grouping and cleaning the data. We can embed various functions into a class. I used two classes for grouping the data. \n",
        "\n",
        "The class labeled as “Content\" has additional functions for grouping and cleaning (tokenization) the words in the data.\n",
        "\n",
        "Recall in the previous two cells, we explored the distribution of reviews across the 5 star rating system.  Since we discovered that the reviews are unevenly distributed across the 5 review categories, we will need to group these categories to make the distribution more even.  To do this, we will use the “get_rate” function to group reviews with 4 and 5 star ratings as “HIGH\" and 1 and 2 star ratings as “LOW.”  Reviews with 3 stars will be labeled as “MIXED” and will be excluded from our analyses. However, you can practice the analyses by including the mixed reviews (i.e., reviews rated as 3 stars) if you wish. \n",
        "\n",
        "In order to call the “clean_str” function, we have to import a “re” module (i.e., regular expression). This is commonly used for altering the text, in this case, the text of the reviews. For example, all of the words were altered by changing all capital letters to lower case letters.\n",
        "\n",
        "For more info, see the following: Tokenization/string cleaning for all datasets except for SST.\n",
        "Original taken from https://github.com/yoonkim/CNN_sentence/blob/master/process_data.py\n",
        "\n"
      ]
    },
    {
      "cell_type": "code",
      "metadata": {
        "id": "AG2i1IiswBuH",
        "colab_type": "code",
        "colab": {}
      },
      "source": [
        "import re\n",
        "\n",
        "class Rate:\n",
        "  HIGH = \"HIGH\"\n",
        "  MIXED = \"MIXED\"\n",
        "  LOW = \"LOW\"\n",
        "  \n",
        "class Content:\n",
        "  def __init__(self, content, rating, sumcontent):\n",
        "    self.content = content\n",
        "    self.rating = rating\n",
        "    self.sumcontent = sumcontent\n",
        "    self.rate= self.get_rate()\n",
        "    self.content = self.clean_str(content)\n",
        "      \n",
        "  def get_rate(self):\n",
        "    if self.rating >= 4:             \n",
        "      return Rate.HIGH    \n",
        "    elif self.rating == 3:\n",
        "      return Rate.MIXED\n",
        "    else:\n",
        "      return Rate.LOW \n",
        "        \n",
        "  def clean_str(self, content):\n",
        "    \n",
        "    content = re.sub(r\"[^A-Za-z0-9(),!?\\'\\`]\", \" \", content)\n",
        "    content = re.sub(r\"\\'s\", \" \\'s\", content)\n",
        "    content = re.sub(r\"\\'ve\", \" \\'ve\", content)\n",
        "    content = re.sub(r\"n\\'t\", \" n\\'t\", content)\n",
        "    content = re.sub(r\"\\'re\", \" \\'re\", content)\n",
        "    content = re.sub(r\"\\'d\", \" \\'d\", content)\n",
        "    content = re.sub(r\"\\'ll\", \" \\'ll\", content)\n",
        "    content = re.sub(r\",\", \" , \", content)\n",
        "    content = re.sub(r\"!\", \" ! \", content)\n",
        "    content = re.sub(r\"\\(\", \" \\( \", content)\n",
        "    content = re.sub(r\"\\)\", \" \\) \", content)\n",
        "    content = re.sub(r\"\\?\", \" \\? \", content)\n",
        "    content = re.sub(r\"\\s{2,}\", \" \", content)\n",
        "    return content.strip().lower()\n",
        "    \n",
        "# class ReviewSample:\n",
        "\n",
        "#   def __init__(self, texts):\n",
        "#     self.texts = texts\n",
        "\n",
        "#   def get_text(self):\n",
        "#     return [x.content for x in self.texts]\n",
        "   \n",
        "#   def get_rating(self):\n",
        "#     return [x.rating for x in self.texts]\n",
        "  \n",
        "  # def evenly_distribute(self): \n",
        "  #   low = list(filter(lambda x: x.rate == Rate.LOW, self.texts)) \n",
        "  #   high = list(filter(lambda x: x.rate == Rate.HIGH, self.texts))\n",
        "       \n",
        "  #   high_sample = high[:len(low)]\n",
        "  #   self.texts = low + high_sample \n",
        "  #   random.shuffle(self.texts)\n",
        "    \n",
        "  #   print(low[0].content)\n",
        "  #   print(len(low))\n",
        "  #   print(len(high))\n"
      ],
      "execution_count": 0,
      "outputs": []
    },
    {
      "cell_type": "markdown",
      "metadata": {
        "id": "gQDWMC0kXIo2",
        "colab_type": "text"
      },
      "source": [
        "#Tokenization/cleaning\n",
        "\n",
        "I extracted three dictionary values using the following keys: “reviewText,” ''overall,” and “summary.”  \n",
        "\n",
        "“reviewText” contains customers’ comments of the product. \n",
        "“overall” includes the numerical ratings ranging from 1 (lowest) to 5 (highest). \n",
        "Finally, “summary” is a condensed version of “reviewText.”  Be aware that while similar, these values of these two keys are not the same as they may contain different words. \n",
        " As you can see from the text, positive written feedback corresponds with the numerical rating 5.\n"
      ]
    },
    {
      "cell_type": "code",
      "metadata": {
        "colab_type": "code",
        "outputId": "ecd26512-ff55-4ad2-d6c9-f415125e7b49",
        "id": "VEoQ1_My4rD7",
        "colab": {
          "base_uri": "https://localhost:8080/",
          "height": 72
        }
      },
      "source": [
        "data = \"/content/drive/My Drive/amazon large data/data.json\"\n",
        "\n",
        "df_list =[]\n",
        "with open(data) as f:\n",
        "  for line in f:\n",
        "    text =json.loads(line)\n",
        "    df_list.append(Content(text['reviewText'], text['overall'], text['summary']))\n",
        "\n",
        "print(df_list[5].rating)\n",
        "print(df_list[5].content)"
      ],
      "execution_count": 0,
      "outputs": [
        {
          "output_type": "stream",
          "text": [
            "5.0\n",
            "i keep this in my bailout bag and i'm really happy with it have n't had any issues with its use , however i would like for the chain that holds the two pieces together to be a little more durable i 'll probably just end up getting a little container to keep it in\n"
          ],
          "name": "stdout"
        }
      ]
    },
    {
      "cell_type": "markdown",
      "metadata": {
        "id": "MZc3UhukOcGL",
        "colab_type": "text"
      },
      "source": [
        "#Analyses\n",
        "\n",
        "The Sklearn module will be used. We will use supervised learning because we assigned labels (i.e., low and high ratings).\n",
        "\n",
        "There are several ML models at our disposal. I will use some of them as an example. Prior to the analyses, we need to shuffle the data to prevent any potential biases during the analyses.\n",
        "\n",
        "We need to split the data for training and testing. We will split the data 70 percent for training and 30 percent for testing (28000 and 12000 reviews, respectively). If you do not specify the split, then the default will be 75 percent training and 25 percent testing. We will also select 42 as a random state so that each time we rerun the data we can obtain the same results.\n"
      ]
    },
    {
      "cell_type": "code",
      "metadata": {
        "colab_type": "code",
        "id": "EuV5qcLL4p7z",
        "colab": {}
      },
      "source": [
        "import sklearn\n",
        "from sklearn.model_selection import train_test_split\n",
        "\n",
        "df_list = sklearn.utils.shuffle(df_list)\n",
        "training, test=train_test_split(df_list, test_size=0.3, random_state =42)\n",
        "\n",
        "# sample = ReviewSample(training)\n",
        "# sample.evenly_distribute()\n"
      ],
      "execution_count": 0,
      "outputs": []
    },
    {
      "cell_type": "markdown",
      "metadata": {
        "id": "ZG3qi6CJtq02",
        "colab_type": "text"
      },
      "source": [
        "\n",
        "\n",
        "Prior to analysis, I ensure that rating, content, and summary content(sumcontent) are correct.\n"
      ]
    },
    {
      "cell_type": "code",
      "metadata": {
        "colab_type": "code",
        "outputId": "55f087c4-9501-40b7-be1b-e2df31e124f6",
        "id": "d2GzZ1ziNGSx",
        "colab": {
          "base_uri": "https://localhost:8080/",
          "height": 90
        }
      },
      "source": [
        "print(training[0].rating)\n",
        "print(training[0].content)\n",
        "print(training[0].sumcontent)\n"
      ],
      "execution_count": 0,
      "outputs": [
        {
          "output_type": "stream",
          "text": [
            "1.0\n",
            "poorly written and too vague with lots of typos and grammatical errors \\( did anyone proof read it \\? \\) another bad 34 formula 34 product from the 34 how to write an e book 34 brigade\n",
            "Nothing Good.\n"
          ],
          "name": "stdout"
        }
      ]
    },
    {
      "cell_type": "markdown",
      "metadata": {
        "id": "j321UIbbuCks",
        "colab_type": "text"
      },
      "source": [
        "\n",
        "#List comprehension and splitting (training/testing) \n",
        "\n",
        "We will use a list comprehension method (a version of for loop). Of 40000 reviews, 28000 will be classified into the training set and 12000 will be classified into the testing set. In each set, we have x (content/text as a predictor) and y (rating as a predicted value). \n"
      ]
    },
    {
      "cell_type": "code",
      "metadata": {
        "colab_type": "code",
        "outputId": "843efd9c-1aa3-461f-d722-8ca3a93f291b",
        "id": "1BWmJU6ENEHY",
        "colab": {
          "base_uri": "https://localhost:8080/",
          "height": 107
        }
      },
      "source": [
        "train_x = [x.content for x in training]\n",
        "train_y = [x.rate for x in training]\n",
        "\n",
        "test_x = [x.content for x in test]\n",
        "test_y = [x.rate for x in test]\n",
        "\n",
        "print(len(train_x))\n",
        "print(len(test_y))\n",
        "print(train_x[0])\n",
        "print(train_y[0])"
      ],
      "execution_count": 0,
      "outputs": [
        {
          "output_type": "stream",
          "text": [
            "28000\n",
            "12000\n",
            "poorly written and too vague with lots of typos and grammatical errors \\( did anyone proof read it \\? \\) another bad 34 formula 34 product from the 34 how to write an e book 34 brigade\n",
            "LOW\n"
          ],
          "name": "stdout"
        }
      ]
    },
    {
      "cell_type": "markdown",
      "metadata": {
        "id": "ZtX0WG-4ahc0",
        "colab_type": "text"
      },
      "source": [
        "#Bag of words vectorization\n",
        "\n",
        "Using “countervectorizer,” the data will be converted into a very big matrix (all ones and zeros).\n"
      ]
    },
    {
      "cell_type": "code",
      "metadata": {
        "id": "iogpDKM5aiq3",
        "colab_type": "code",
        "outputId": "76515318-cb11-4b49-d282-b98e024fe490",
        "colab": {
          "base_uri": "https://localhost:8080/",
          "height": 52
        }
      },
      "source": [
        "from sklearn.feature_extraction.text import CountVectorizer, TfidfVectorizer\n",
        "\n",
        "vectorizer = TfidfVectorizer()\n",
        "vectorizer.fit_transform(train_x)"
      ],
      "execution_count": 0,
      "outputs": [
        {
          "output_type": "execute_result",
          "data": {
            "text/plain": [
              "<28000x46939 sparse matrix of type '<class 'numpy.float64'>'\n",
              "\twith 1550216 stored elements in Compressed Sparse Row format>"
            ]
          },
          "metadata": {
            "tags": []
          },
          "execution_count": 13
        }
      ]
    },
    {
      "cell_type": "markdown",
      "metadata": {
        "id": "vET6M9dUvZB4",
        "colab_type": "text"
      },
      "source": [
        "\n",
        "#Array \n",
        "\n",
        "We can see that it is a big matrix\n",
        "\n",
        "We can see the matrix in an array. It has a lot of zeros and ones. \n"
      ]
    },
    {
      "cell_type": "code",
      "metadata": {
        "id": "MgYpUOXoc5iE",
        "colab_type": "code",
        "outputId": "b5b4c096-ace7-46b3-e009-573f2539705a",
        "colab": {
          "base_uri": "https://localhost:8080/",
          "height": 565
        }
      },
      "source": [
        "\n",
        "train_x_vectors= vectorizer.fit_transform(train_x)\n",
        "\n",
        "test_x_vectors =vectorizer.transform(test_x)\n",
        "print(train_x[0])\n",
        "print(train_x_vectors[0])"
      ],
      "execution_count": 0,
      "outputs": [
        {
          "output_type": "stream",
          "text": [
            "poorly written and too vague with lots of typos and grammatical errors \\( did anyone proof read it \\? \\) another bad 34 formula 34 product from the 34 how to write an e book 34 brigade\n",
            "  (0, 7188)\t0.3395181181447235\n",
            "  (0, 6739)\t0.09570232710447726\n",
            "  (0, 3657)\t0.09201662827698166\n",
            "  (0, 46378)\t0.18435442587827378\n",
            "  (0, 42265)\t0.0454274467383984\n",
            "  (0, 20758)\t0.10981012405303552\n",
            "  (0, 41664)\t0.040954669362693666\n",
            "  (0, 17673)\t0.0899712506131501\n",
            "  (0, 32534)\t0.10157230041247897\n",
            "  (0, 17357)\t0.2214609198378377\n",
            "  (0, 1184)\t0.47119583013364486\n",
            "  (0, 5180)\t0.1414225862819096\n",
            "  (0, 3866)\t0.12680286682968486\n",
            "  (0, 22604)\t0.045703640851619584\n",
            "  (0, 33717)\t0.10233961662632483\n",
            "  (0, 32666)\t0.22049046109852707\n",
            "  (0, 3964)\t0.14685993798064442\n",
            "  (0, 12871)\t0.09904691487492881\n",
            "  (0, 15335)\t0.22491537146135487\n",
            "  (0, 18850)\t0.2672218629867919\n",
            "  (0, 43305)\t0.26990157135661696\n",
            "  (0, 29070)\t0.05477281224345307\n",
            "  (0, 25151)\t0.17321389802175585\n",
            "  (0, 46035)\t0.06302710589755475\n",
            "  (0, 44352)\t0.2685349129367764\n",
            "  (0, 42373)\t0.10694390555028753\n",
            "  (0, 3702)\t0.08392750149167912\n",
            "  (0, 46393)\t0.15259113595722984\n",
            "  (0, 31807)\t0.2313116108182253\n"
          ],
          "name": "stdout"
        }
      ]
    },
    {
      "cell_type": "code",
      "metadata": {
        "id": "ucylfR56c5lD",
        "colab_type": "code",
        "outputId": "9ecd3c10-0cf4-430a-b9dd-be2f688bb018",
        "colab": {
          "base_uri": "https://localhost:8080/",
          "height": 34
        }
      },
      "source": [
        "print(train_x_vectors[0].toarray())"
      ],
      "execution_count": 0,
      "outputs": [
        {
          "output_type": "stream",
          "text": [
            "[[0. 0. 0. ... 0. 0. 0.]]\n"
          ],
          "name": "stdout"
        }
      ]
    },
    {
      "cell_type": "markdown",
      "metadata": {
        "id": "daE6TG6Fc5zE",
        "colab_type": "text"
      },
      "source": [
        "#Classificaiton and model specification\n",
        "\n",
        "###Decision tree"
      ]
    },
    {
      "cell_type": "code",
      "metadata": {
        "id": "Y1z-e-OvvBm2",
        "colab_type": "code",
        "outputId": "c7a840f7-43dc-4231-f34e-934996a7debc",
        "colab": {
          "base_uri": "https://localhost:8080/",
          "height": 34
        }
      },
      "source": [
        "from sklearn.tree import DecisionTreeClassifier\n",
        "\n",
        "clf_dec =DecisionTreeClassifier()\n",
        "clf_dec.fit(train_x_vectors, train_y)\n",
        "clf_dec.predict(test_x_vectors[0])\n"
      ],
      "execution_count": 0,
      "outputs": [
        {
          "output_type": "execute_result",
          "data": {
            "text/plain": [
              "array(['HIGH'], dtype='<U5')"
            ]
          },
          "metadata": {
            "tags": []
          },
          "execution_count": 15
        }
      ]
    },
    {
      "cell_type": "markdown",
      "metadata": {
        "id": "c2WeGDBL7TWc",
        "colab_type": "text"
      },
      "source": [
        "#Forest of randomized trees \n"
      ]
    },
    {
      "cell_type": "code",
      "metadata": {
        "id": "BjbwzTAY3gZZ",
        "colab_type": "code",
        "outputId": "848d9074-47e6-4918-b0c2-ec0bb9720514",
        "colab": {
          "base_uri": "https://localhost:8080/",
          "height": 34
        }
      },
      "source": [
        "from sklearn.ensemble import RandomForestClassifier\n",
        "\n",
        "clf_rd =RandomForestClassifier(n_estimators=10)\n",
        "clf_rd.fit(train_x_vectors, train_y)\n",
        "clf_rd.predict(test_x_vectors[0])"
      ],
      "execution_count": 0,
      "outputs": [
        {
          "output_type": "execute_result",
          "data": {
            "text/plain": [
              "array(['HIGH'], dtype='<U5')"
            ]
          },
          "metadata": {
            "tags": []
          },
          "execution_count": 16
        }
      ]
    },
    {
      "cell_type": "code",
      "metadata": {
        "id": "bi_a6Fj7c5r8",
        "colab_type": "code",
        "outputId": "78d2490f-e621-4292-9fb7-75f946ef39f8",
        "colab": {
          "base_uri": "https://localhost:8080/",
          "height": 34
        }
      },
      "source": [
        "from sklearn import svm\n",
        "\n",
        "clf_svm =svm.SVC(kernel='linear')\n",
        "\n",
        "clf_svm.fit(train_x_vectors, train_y)\n",
        "\n",
        "test_x[0]\n",
        "test_x_vectors[0]\n",
        "clf_svm.predict(test_x_vectors[0])"
      ],
      "execution_count": 0,
      "outputs": [
        {
          "output_type": "execute_result",
          "data": {
            "text/plain": [
              "array(['HIGH'], dtype='<U5')"
            ]
          },
          "metadata": {
            "tags": []
          },
          "execution_count": 17
        }
      ]
    },
    {
      "cell_type": "markdown",
      "metadata": {
        "id": "XOeq7ZEZW4kh",
        "colab_type": "text"
      },
      "source": [
        "##naive base"
      ]
    },
    {
      "cell_type": "code",
      "metadata": {
        "id": "bj96pO36vuAl",
        "colab_type": "code",
        "outputId": "b0f240f2-94ce-40fe-9631-df1dd83c7d9f",
        "colab": {
          "base_uri": "https://localhost:8080/",
          "height": 34
        }
      },
      "source": [
        "from sklearn.naive_bayes import GaussianNB\n",
        "\n",
        "clf_gnb = GaussianNB()\n",
        "clf_gnb.fit(train_x_vectors.toarray(), train_y)\n",
        "clf_gnb.predict(test_x_vectors[0].toarray())"
      ],
      "execution_count": 0,
      "outputs": [
        {
          "output_type": "execute_result",
          "data": {
            "text/plain": [
              "array(['HIGH'], dtype='<U5')"
            ]
          },
          "metadata": {
            "tags": []
          },
          "execution_count": 18
        }
      ]
    },
    {
      "cell_type": "markdown",
      "metadata": {
        "id": "A3euZHnOu5Hz",
        "colab_type": "text"
      },
      "source": [
        "##logistic reg"
      ]
    },
    {
      "cell_type": "code",
      "metadata": {
        "id": "M0XlCi2fu5Ob",
        "colab_type": "code",
        "outputId": "91ca1e8f-6cf8-4fd6-abca-2c13a2797f73",
        "colab": {
          "base_uri": "https://localhost:8080/",
          "height": 125
        }
      },
      "source": [
        "from sklearn.linear_model import LogisticRegression\n",
        "clf_log =LogisticRegression()\n",
        "clf_log.fit(train_x_vectors, train_y)\n",
        "clf_log.predict(test_x_vectors[0])"
      ],
      "execution_count": 0,
      "outputs": [
        {
          "output_type": "stream",
          "text": [
            "/usr/local/lib/python3.6/dist-packages/sklearn/linear_model/logistic.py:432: FutureWarning: Default solver will be changed to 'lbfgs' in 0.22. Specify a solver to silence this warning.\n",
            "  FutureWarning)\n",
            "/usr/local/lib/python3.6/dist-packages/sklearn/linear_model/logistic.py:469: FutureWarning: Default multi_class will be changed to 'auto' in 0.22. Specify the multi_class option to silence this warning.\n",
            "  \"this warning.\", FutureWarning)\n"
          ],
          "name": "stderr"
        },
        {
          "output_type": "execute_result",
          "data": {
            "text/plain": [
              "array(['HIGH'], dtype='<U5')"
            ]
          },
          "metadata": {
            "tags": []
          },
          "execution_count": 19
        }
      ]
    },
    {
      "cell_type": "markdown",
      "metadata": {
        "id": "Q7SNTx-4u5Ss",
        "colab_type": "text"
      },
      "source": [
        "#Evaluation\n",
        "\n",
        "The model accuracy ranged from 49 percent to 85 percent. However, we will focus on only two models with the highest accuracy. SVM and log models produced around 85 percent accuracy.\n",
        "\n",
        "\n",
        "Now we can focus on the prediction accuracy of each category. As we can see, SVM produced higher accuracies for each category: the “HIGH” rating was 92 percent while the “LOW” rating was 45 percent. \n",
        "\n",
        "We have to be very cautious because the “LOW” category was only 49 percent accurate, which is not preferred. Therefore, we may want to increase the “LOW” category in the training set to even the training and testing sets.\n"
      ]
    },
    {
      "cell_type": "code",
      "metadata": {
        "id": "moIFKmoV9TDO",
        "colab_type": "code",
        "outputId": "50f62f1c-cfbc-4578-8413-e1d807f34f48",
        "colab": {
          "base_uri": "https://localhost:8080/",
          "height": 105
        }
      },
      "source": [
        "print(clf_dec.score(test_x_vectors, test_y))\n",
        "print(clf_rd.score(test_x_vectors, test_y))\n",
        "print(clf_svm.score(test_x_vectors, test_y))\n",
        "print(clf_gnb.score(test_x_vectors.toarray(), test_y))\n",
        "print(clf_log.score(test_x_vectors, test_y))"
      ],
      "execution_count": 0,
      "outputs": [
        {
          "output_type": "stream",
          "text": [
            "0.764\n",
            "0.83025\n",
            "0.8544166666666667\n",
            "0.4970833333333333\n",
            "0.851\n"
          ],
          "name": "stdout"
        }
      ]
    },
    {
      "cell_type": "code",
      "metadata": {
        "id": "7lEAEIGl94nV",
        "colab_type": "code",
        "outputId": "89b93f27-e51e-4777-8545-f50f3bc1b420",
        "colab": {
          "base_uri": "https://localhost:8080/",
          "height": 34
        }
      },
      "source": [
        "from sklearn.metrics import f1_score \n",
        "\n",
        "f1_score(test_y, clf_svm.predict(test_x_vectors), average=None, labels=[Rate.HIGH, Rate.LOW])"
      ],
      "execution_count": 0,
      "outputs": [
        {
          "output_type": "execute_result",
          "data": {
            "text/plain": [
              "array([0.9231927 , 0.45771812])"
            ]
          },
          "metadata": {
            "tags": []
          },
          "execution_count": 21
        }
      ]
    },
    {
      "cell_type": "code",
      "metadata": {
        "id": "GEjI0PMmm8vf",
        "colab_type": "code",
        "outputId": "5242170d-d86a-48b4-8aa7-49a677e44f7b",
        "colab": {
          "base_uri": "https://localhost:8080/",
          "height": 34
        }
      },
      "source": [
        "f1_score(test_y, clf_log.predict(test_x_vectors), average=None, labels=[Rate.HIGH, Rate.LOW])"
      ],
      "execution_count": 0,
      "outputs": [
        {
          "output_type": "execute_result",
          "data": {
            "text/plain": [
              "array([0.92097863, 0.39562044])"
            ]
          },
          "metadata": {
            "tags": []
          },
          "execution_count": 23
        }
      ]
    },
    {
      "cell_type": "markdown",
      "metadata": {
        "id": "gbium4egr2zS",
        "colab_type": "text"
      },
      "source": [
        "#Redoing hthete same analysis for predicting summary content"
      ]
    },
    {
      "cell_type": "code",
      "metadata": {
        "id": "yqzB0znUoJbU",
        "colab_type": "code",
        "outputId": "e4a4a06e-ceec-4429-dcd7-55424aa6da38",
        "colab": {
          "base_uri": "https://localhost:8080/",
          "height": 87
        }
      },
      "source": [
        "train_a = [x.sumcontent for x in training]\n",
        "train_b = [x.rate for x in training]\n",
        "\n",
        "test_a = [x.sumcontent for x in test]\n",
        "test_b = [x.rate for x in test]\n",
        "\n",
        "print(len(train_a))\n",
        "print(len(test_b))\n",
        "print(train_a[0])\n",
        "print(train_b[0])"
      ],
      "execution_count": 0,
      "outputs": [
        {
          "output_type": "stream",
          "text": [
            "28000\n",
            "12000\n",
            "Nothing Good.\n",
            "LOW\n"
          ],
          "name": "stdout"
        }
      ]
    },
    {
      "cell_type": "code",
      "metadata": {
        "id": "MbOuH6CqonWt",
        "colab_type": "code",
        "outputId": "ec82593c-5010-41b1-97cf-761c98fa70e1",
        "colab": {
          "base_uri": "https://localhost:8080/",
          "height": 52
        }
      },
      "source": [
        "from sklearn.feature_extraction.text import CountVectorizer, TfidfVectorizer\n",
        "\n",
        "vectorizer = TfidfVectorizer()\n",
        "vectorizer.fit_transform(train_a)"
      ],
      "execution_count": 0,
      "outputs": [
        {
          "output_type": "execute_result",
          "data": {
            "text/plain": [
              "<28000x11350 sparse matrix of type '<class 'numpy.float64'>'\n",
              "\twith 113226 stored elements in Compressed Sparse Row format>"
            ]
          },
          "metadata": {
            "tags": []
          },
          "execution_count": 26
        }
      ]
    },
    {
      "cell_type": "code",
      "metadata": {
        "id": "A32uX4AUoqP_",
        "colab_type": "code",
        "outputId": "1885f6fc-1d5a-4941-dc22-b12d7f6508b3",
        "colab": {
          "base_uri": "https://localhost:8080/",
          "height": 140
        }
      },
      "source": [
        "train_a_vectors= vectorizer.fit_transform(train_a)\n",
        "test_a_vectors =vectorizer.transform(test_a)\n",
        "print(train_a[0])\n",
        "print(train_a_vectors[0])\n",
        "from sklearn import svm\n",
        "\n",
        "clf_svm =svm.SVC(kernel='linear')\n",
        "\n",
        "clf_svm.fit(train_a_vectors, train_b)\n",
        "\n",
        "\n"
      ],
      "execution_count": 0,
      "outputs": [
        {
          "output_type": "stream",
          "text": [
            "Nothing Good.\n",
            "  (0, 4364)\t0.4331711066811475\n",
            "  (0, 6891)\t0.9013117065347759\n"
          ],
          "name": "stdout"
        },
        {
          "output_type": "execute_result",
          "data": {
            "text/plain": [
              "SVC(C=1.0, cache_size=200, class_weight=None, coef0=0.0,\n",
              "    decision_function_shape='ovr', degree=3, gamma='auto_deprecated',\n",
              "    kernel='linear', max_iter=-1, probability=False, random_state=None,\n",
              "    shrinking=True, tol=0.001, verbose=False)"
            ]
          },
          "metadata": {
            "tags": []
          },
          "execution_count": 28
        }
      ]
    },
    {
      "cell_type": "code",
      "metadata": {
        "id": "IHp7OukSpZl1",
        "colab_type": "code",
        "outputId": "058fbf35-8ea4-40b2-c8c0-0bfc821856db",
        "colab": {
          "base_uri": "https://localhost:8080/",
          "height": 34
        }
      },
      "source": [
        "test_a[0]\n",
        "test_a_vectors[0]\n",
        "clf_svm.predict(test_a_vectors[0])\n"
      ],
      "execution_count": 0,
      "outputs": [
        {
          "output_type": "execute_result",
          "data": {
            "text/plain": [
              "array(['HIGH'], dtype='<U5')"
            ]
          },
          "metadata": {
            "tags": []
          },
          "execution_count": 29
        }
      ]
    },
    {
      "cell_type": "code",
      "metadata": {
        "id": "ccCbu9oZpcAt",
        "colab_type": "code",
        "outputId": "802315f7-81d2-49f1-8ad3-33e596bf4df4",
        "colab": {
          "base_uri": "https://localhost:8080/",
          "height": 125
        }
      },
      "source": [
        "from sklearn.linear_model import LogisticRegression\n",
        "clf_log =LogisticRegression()\n",
        "clf_log.fit(train_a_vectors, train_b)\n",
        "clf_log.predict(test_a_vectors[0])"
      ],
      "execution_count": 0,
      "outputs": [
        {
          "output_type": "stream",
          "text": [
            "/usr/local/lib/python3.6/dist-packages/sklearn/linear_model/logistic.py:432: FutureWarning: Default solver will be changed to 'lbfgs' in 0.22. Specify a solver to silence this warning.\n",
            "  FutureWarning)\n",
            "/usr/local/lib/python3.6/dist-packages/sklearn/linear_model/logistic.py:469: FutureWarning: Default multi_class will be changed to 'auto' in 0.22. Specify the multi_class option to silence this warning.\n",
            "  \"this warning.\", FutureWarning)\n"
          ],
          "name": "stderr"
        },
        {
          "output_type": "execute_result",
          "data": {
            "text/plain": [
              "array(['HIGH'], dtype='<U5')"
            ]
          },
          "metadata": {
            "tags": []
          },
          "execution_count": 30
        }
      ]
    },
    {
      "cell_type": "code",
      "metadata": {
        "id": "b6-MYy1jpcIw",
        "colab_type": "code",
        "outputId": "5e8931d6-9444-484f-8ad0-ebeea28f2a2b",
        "colab": {
          "base_uri": "https://localhost:8080/",
          "height": 52
        }
      },
      "source": [
        "print(clf_svm.score(test_a_vectors, test_b))\n",
        "\n",
        "print(clf_log.score(test_a_vectors, test_b))\n"
      ],
      "execution_count": 0,
      "outputs": [
        {
          "output_type": "stream",
          "text": [
            "0.8598333333333333\n",
            "0.8553333333333333\n"
          ],
          "name": "stdout"
        }
      ]
    },
    {
      "cell_type": "code",
      "metadata": {
        "id": "CQslXTorpcN7",
        "colab_type": "code",
        "outputId": "d12021d3-d0dc-44cb-f610-3447973f358d",
        "colab": {
          "base_uri": "https://localhost:8080/",
          "height": 34
        }
      },
      "source": [
        "from sklearn.metrics import f1_score \n",
        "\n",
        "f1_score(test_b, clf_svm.predict(test_a_vectors), average=None, labels=[Rate.HIGH, Rate.LOW])"
      ],
      "execution_count": 0,
      "outputs": [
        {
          "output_type": "execute_result",
          "data": {
            "text/plain": [
              "array([0.92695238, 0.49630542])"
            ]
          },
          "metadata": {
            "tags": []
          },
          "execution_count": 32
        }
      ]
    },
    {
      "cell_type": "code",
      "metadata": {
        "id": "CLHZckDEp6eC",
        "colab_type": "code",
        "outputId": "305f0a31-7787-4f53-e97e-c4e55a03a52f",
        "colab": {
          "base_uri": "https://localhost:8080/",
          "height": 34
        }
      },
      "source": [
        "f1_score(test_b, clf_log.predict(test_a_vectors), average=None, labels=[Rate.HIGH, Rate.LOW])"
      ],
      "execution_count": 0,
      "outputs": [
        {
          "output_type": "execute_result",
          "data": {
            "text/plain": [
              "array([0.92335335, 0.43638851])"
            ]
          },
          "metadata": {
            "tags": []
          },
          "execution_count": 33
        }
      ]
    },
    {
      "cell_type": "markdown",
      "metadata": {
        "id": "6PkUaQWNsBnw",
        "colab_type": "text"
      },
      "source": [
        "we obtained pretty identical results.\n"
      ]
    }
  ]
}