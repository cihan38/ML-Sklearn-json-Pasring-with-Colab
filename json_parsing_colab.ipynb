{
  "nbformat": 4,
  "nbformat_minor": 0,
  "metadata": {
    "colab": {
      "name": "json parsing colab",
      "provenance": [],
      "include_colab_link": true
    },
    "kernelspec": {
      "name": "python3",
      "display_name": "Python 3"
    }
  },
  "cells": [
    {
      "cell_type": "markdown",
      "metadata": {
        "id": "view-in-github",
        "colab_type": "text"
      },
      "source": [
        "<a href=\"https://colab.research.google.com/github/cihan38/ML-Sklearn-json-parse-with-Colab/blob/master/json_parsing_colab.ipynb\" target=\"_parent\"><img src=\"https://colab.research.google.com/assets/colab-badge.svg\" alt=\"Open In Colab\"/></a>"
      ]
    },
    {
      "cell_type": "markdown",
      "metadata": {
        "id": "B2SoBhfiAuQr",
        "colab_type": "text"
      },
      "source": [
        "Hello and how's it going everybody! \n",
        "\n",
        "It is important to examine customer feedback for businesses. Understanding the customers’ likes and dislikes is very important as this information may not only help with increased growth in sales but also may improve the quality of products, services, and company management.\n",
        "Almost all businesses collect and publish customer feedback. Some examples that can be found with a simple internet search include Google and Amazon reviews. According to marketing research published in Forbes (see the link https://www.forbes.com/sites/serenitygibbons/2018/09/20/why-businesses-need-to-see-customer-feedback-as-make-or-break/#1f40c09b1083) a negative review could result in the reduction of 20% of existing and 70% of potential future customers. \n",
        "\n",
        "To address this problem using Machine Learning models, we will analyze Amazon customer feedback data.  The data is fairly large, consisting of multiple json files (located here http://jmcauley.ucsd.edu/data/amazon/). From this website, I downloaded four different subsets of files/datasets on my desktop. The name of these datasets are \"Books\" (file size around 3GB), \"Electronics\" (around 476MB), \"Sports and Outdoors\" (around 65MB), and \"Beauty\" (around 43MB). I then moved said files into my Google Drive. This is convenient as I can easily mount my Google Drive to my Colab. This makes it easier to parse big data. \n",
        "\n",
        "To link your Google Drive with Colab, either run the code located in the cell below or go to Colab. To the left of your browser, you will see a chevron which expands a vertical menu.  Once expanded, you should be able to see the “Mount Drive” option.  Double click “Mount Drive” and run the code. A link will appear which will take you to a new browser and provide you with an authorization code. Copy the authorization code and paste it into the cell.  Doing so will mount your Google Drive to Colab.\n",
        "\n",
        "\n",
        "\n"
      ]
    },
    {
      "cell_type": "code",
      "metadata": {
        "id": "sMWiLcLGUOR_",
        "colab_type": "code",
        "outputId": "838021bc-1ab5-49dd-fe16-b32f090ca91c",
        "colab": {
          "base_uri": "https://localhost:8080/",
          "height": 125
        }
      },
      "source": [
        "from google.colab import drive\n",
        "drive.mount('/content/drive')"
      ],
      "execution_count": 0,
      "outputs": [
        {
          "output_type": "stream",
          "text": [
            "Go to this URL in a browser: https://accounts.google.com/o/oauth2/auth?client_id=947318989803-6bn6qk8qdgf4n4g3pfee6491hc0brc4i.apps.googleusercontent.com&redirect_uri=urn%3aietf%3awg%3aoauth%3a2.0%3aoob&response_type=code&scope=email%20https%3a%2f%2fwww.googleapis.com%2fauth%2fdocs.test%20https%3a%2f%2fwww.googleapis.com%2fauth%2fdrive%20https%3a%2f%2fwww.googleapis.com%2fauth%2fdrive.photos.readonly%20https%3a%2f%2fwww.googleapis.com%2fauth%2fpeopleapi.readonly\n",
            "\n",
            "Enter your authorization code:\n",
            "··········\n",
            "Mounted at /content/drive\n"
          ],
          "name": "stdout"
        }
      ]
    },
    {
      "cell_type": "markdown",
      "metadata": {
        "id": "4gjn7hoDeKHj",
        "colab_type": "text"
      },
      "source": [
        "\n",
        "\n",
        "The file is in json.gz format (compressed format). We need to use “import json” and “import gzip” statements to work with and parse the data. \n",
        "You can get the path of the file by navigating to the “Files” menu located in the vertical menu discussed previously.  Select “drive” and then select “My Drive.”  Locate the folder that has the large json file and right click.  Select the option “Copy path.”  Once you copied the file path, you can paste it in the cell.  For example, I am looking to use the file titled “reviews_Beauty_5.json.gz” in “amazon large data” folder located in “My Drive.” My path code is: '/content/drive/My Drive/amazon large data/reviews_Beauty_5.json.gz'\n",
        "\n",
        "Your path code should look similar (but not necessarily identical) as the path code in the example above.\n",
        "\n",
        "In order to read the first line of the data file, run the code below.\n",
        "As you can see, we successfully ran the code and read the data. The data is in Python dictionary format. \n",
        "\n",
        "These are the keys for the dictionary, which will help you to do further analyses. \n",
        "reviewerID\n",
        "\n",
        "asin\n",
        "\n",
        "reviewerName\n",
        "\n",
        "helpful\n",
        "\n",
        "reviewText\n",
        "\n",
        "overall\n",
        "\n",
        "summary\n",
        "\n",
        "unixReviewTime\n",
        "\n",
        "reviewTime\n",
        "\n"
      ]
    },
    {
      "cell_type": "code",
      "metadata": {
        "id": "8YGUo4CaQVtE",
        "colab_type": "code",
        "outputId": "9647c267-044b-4d5a-9859-a34d64de70e0",
        "colab": {
          "base_uri": "https://localhost:8080/",
          "height": 54
        }
      },
      "source": [
        "import json\n",
        "import gzip\n",
        "\n",
        "with gzip.open('/content/drive/My Drive/amazon large data/reviews_Beauty_5.json.gz', 'rb') as f:\n",
        "  for line in f:\n",
        "    print(line)\n",
        "    break"
      ],
      "execution_count": 0,
      "outputs": [
        {
          "output_type": "stream",
          "text": [
            "b'{\"reviewerID\": \"A1YJEY40YUW4SE\", \"asin\": \"7806397051\", \"reviewerName\": \"Andrea\", \"helpful\": [3, 4], \"reviewText\": \"Very oily and creamy. Not at all what I expected... ordered this to try to highlight and contour and it just looked awful!!! Plus, took FOREVER to arrive.\", \"overall\": 1.0, \"summary\": \"Don\\'t waste your money\", \"unixReviewTime\": 1391040000, \"reviewTime\": \"01 30, 2014\"}\\n'\n"
          ],
          "name": "stdout"
        }
      ]
    },
    {
      "cell_type": "markdown",
      "metadata": {
        "id": "hasqgeUVVFtF",
        "colab_type": "text"
      },
      "source": [
        "\n",
        "\n",
        "To randomly parse the data, use the statement “import random.”  To obtain smaller pieces of the json files, we need to create an empty list.\n",
        "\n",
        "Using the for loop statement, we can read each line in the data. Also, we can limit the data by year using the if condition/statement.  In this example, I limited the data to the year 2014. Additionally, we can randomly sample/select 10000 cases from the json data. \n",
        "\n",
        "To evaluate the success of our code, we need to print both the length of the data (which is 10000) and the first 5 rows of the data.  If you are able to view this information, then this is an indication that the code was successful. \n"
      ]
    },
    {
      "cell_type": "code",
      "metadata": {
        "id": "u_p4JzBmzCfL",
        "colab_type": "code",
        "outputId": "6fbcb72a-952d-4238-c7be-83bd84238a13",
        "colab": {
          "base_uri": "https://localhost:8080/",
          "height": 72
        }
      },
      "source": [
        "import random\n",
        "\n",
        "data = []\n",
        "with gzip.open('/content/drive/My Drive/amazon large data/reviews_Beauty_5.json.gz', 'rb') as f:\n",
        "\tfor line in f:\n",
        "\t\treview = json.loads(line)\n",
        "\t\tyear = int(review['reviewTime'].split(' ')[-1])\n",
        "\t\tif year == 2014:\n",
        "\t\t\tdata.append(review)\n",
        "\n",
        "final_data = random.sample(data, 10000)\n",
        "\n",
        "print(len(final_data))\n",
        "\n",
        "print(final_data[0:5])\n",
        "\n"
      ],
      "execution_count": 0,
      "outputs": [
        {
          "output_type": "stream",
          "text": [
            "10000\n",
            "[{'reviewerID': 'A2I8KUDXTC9WYI', 'asin': 'B00K83VT5Y', 'reviewerName': 'theresa', 'helpful': [0, 0], 'reviewText': \"I love Vitamin C Serum and this serum from Health Royals is excellent. Since I started using it, my skin and complexion looks wonderful.  I have noticed my fine lines and wrinkles starting to fade. I also don't have as much puffiness under my eyes in the morning as I use to have.  Vitamin C Serum is so beneficial for the skin and this company makes a great product.  I also use it on my neck and my hands.  My hands are looking so much better and the age spots on them are starting to fade also.  I highly recommend this product.\", 'overall': 5.0, 'summary': 'I love this Vitamin C Serum.', 'unixReviewTime': 1405814400, 'reviewTime': '07 20, 2014'}, {'reviewerID': 'A3OV02UE5E8P5I', 'asin': 'B000O3OZD6', 'reviewerName': 'sutherngal', 'helpful': [0, 0], 'reviewText': 'This case is great for my make-up. It is big enough to put everything. It comes with a black strap.', 'overall': 5.0, 'summary': 'Case', 'unixReviewTime': 1403568000, 'reviewTime': '06 24, 2014'}, {'reviewerID': 'A1D2Q0ZNMIGKD5', 'asin': 'B005H8PTR4', 'reviewerName': 'visa \"jane becknell\"', 'helpful': [1, 1], 'reviewText': \"my daughter is at the age when you don't know what to get her but this purchase right here was perfect for her\", 'overall': 5.0, 'summary': 'Yes!!!!', 'unixReviewTime': 1396051200, 'reviewTime': '03 29, 2014'}, {'reviewerID': 'A3HGNUWEFQDC7V', 'asin': 'B0012J30PU', 'reviewerName': 'Latoya', 'helpful': [0, 0], 'reviewText': \"This Peel removes all the dead skin on your face and will be as effective when you get to the end of the tube as it was when you first opened it. I have graduated in my skin care routine to mostly all prescription strength creams/serums/acids but this is one drugstore MUST HAVE that I will not leave behind. If you use Retin A and have been getting that creepy, scaly, alligator dead skin that just hangs around well then you absolutely need this. This is the one product that removes all of that FAST.. at one time and lets your new younger silkier skin shine through. The key I found is to leave it on for atleast an hour (or longer I have left it on overnight BUT I have very tolerant skin). After you have let your peel set in when you wash your face it will just rinse all of that dead skin right down the sink. Please be careful though and maybe check your skin tolerance first before you leave it on too long and shrivel up your skin (yes that has happened to me) I once left it on all day and all night and the next morning my skin was left just pulled so tight it was shriveled and took a whole day and tons of moisturizer to return to it's normal elastic self.\", 'overall': 5.0, 'summary': 'Amazing at removing the dead skin!!!', 'unixReviewTime': 1403222400, 'reviewTime': '06 20, 2014'}, {'reviewerID': 'A3433CUWQ1HA46', 'asin': 'B00JJVG6HC', 'reviewerName': 'Gennie Lancaster', 'helpful': [0, 0], 'reviewText': 'My daughter and I both struggle with dandruff and the itching and flakiness that goes along with it. I tried this product and noticed a difference after the first week of use. My hair was shinier and I had less itchiness and flakiness. The product was effective in both my hair and my daughters. I also really liked the design of the bottle, the size and labeling as well as the pleasant smell of the shampoo. If you have a problem with dandruff or are just looking for a shampoo that leaves your hair shiny, soft and clean then look no further than Adovia Dead Sea Mud Shampoo.Disclosure: I received this product for free in exchange for my honest opinion.', 'overall': 5.0, 'summary': 'Great Relief from Dandruff!!', 'unixReviewTime': 1401408000, 'reviewTime': '05 30, 2014'}]\n"
          ],
          "name": "stdout"
        }
      ]
    },
    {
      "cell_type": "markdown",
      "metadata": {
        "id": "LCHPOjiZaUk4",
        "colab_type": "text"
      },
      "source": [
        "\n",
        "\n",
        "Make sure you save the data. I saved the data as Beautysmall.json in my Google Drive."
      ]
    },
    {
      "cell_type": "code",
      "metadata": {
        "id": "kQlCwS3bi7Sp",
        "colab_type": "code",
        "colab": {}
      },
      "source": [
        "with open('/content/drive/My Drive/amazon large data/Beautysmall.json', 'w') as f:\n",
        "\tfor review in final_data:\n",
        "\t\tf.write(json.dumps(review)+'\\n')"
      ],
      "execution_count": 0,
      "outputs": []
    },
    {
      "cell_type": "markdown",
      "metadata": {
        "id": "sR5hv84MV5hO",
        "colab_type": "text"
      },
      "source": [
        "\n",
        "\n",
        "Once saved, I can read the first row/line of this smaller json file."
      ]
    },
    {
      "cell_type": "code",
      "metadata": {
        "id": "VsOWa19prYxn",
        "colab_type": "code",
        "outputId": "03a0754e-dfe5-4971-8398-5407595b0f22",
        "colab": {
          "base_uri": "https://localhost:8080/",
          "height": 72
        }
      },
      "source": [
        "file_name = '/content/drive/My Drive/amazon large data/Beautysmall.json'\n",
        "\n",
        "with open(file_name) as f:\n",
        "  for line in f:\n",
        "    print(line)\n",
        "    break"
      ],
      "execution_count": 0,
      "outputs": [
        {
          "output_type": "stream",
          "text": [
            "{\"reviewerID\": \"A7L6NVT1KZJ1R\", \"asin\": \"B00AUFS12O\", \"reviewerName\": \"Debi S. \\\"Debi S.\\\"\", \"helpful\": [0, 0], \"reviewText\": \"Love this stuff! I get all day wear from my eye shadow with no more creasing, nor fading. Keeps it looking perfect for 8 plus hours. This will be a staple for me now. I have older skin, so need heavier moisturizers which can wreak havoc with eye shadows. Not a problem anymore, even in humidity. I have sensitive skin, and no problems from it, another huge plus.\", \"overall\": 5.0, \"summary\": \"Works perfect!\", \"unixReviewTime\": 1402099200, \"reviewTime\": \"06 7, 2014\"}\n",
            "\n"
          ],
          "name": "stdout"
        }
      ]
    },
    {
      "cell_type": "markdown",
      "metadata": {
        "id": "a89lWUwofD4S",
        "colab_type": "text"
      },
      "source": [
        "\n",
        "\n",
        "I can read the following keys: 'reviewText', 'overall' rating, and 'summary' of the review. For this example, I can see that it is a five-star review with very positive customer experience."
      ]
    },
    {
      "cell_type": "code",
      "metadata": {
        "id": "4Vu4wS2HFMid",
        "colab_type": "code",
        "outputId": "8ced7525-a7a3-48a5-d930-a4e45b6ce6da",
        "colab": {
          "base_uri": "https://localhost:8080/",
          "height": 70
        }
      },
      "source": [
        "with open(file_name) as f:\n",
        "  for line in f:\n",
        "    review =json.loads(line)\n",
        "    print(review['reviewText'])\n",
        "    print(review['overall'])\n",
        "    print(review['summary'])\n",
        "    break"
      ],
      "execution_count": 0,
      "outputs": [
        {
          "output_type": "stream",
          "text": [
            "great prize for all these things\n",
            "5.0\n",
            "Five Stars\n"
          ],
          "name": "stdout"
        }
      ]
    },
    {
      "cell_type": "markdown",
      "metadata": {
        "id": "viXx8qNBfkQi",
        "colab_type": "text"
      },
      "source": [
        "\n",
        "\n",
        "We can also append the data into list."
      ]
    },
    {
      "cell_type": "code",
      "metadata": {
        "id": "vFTkVCMBHYo_",
        "colab_type": "code",
        "outputId": "66568163-d261-460b-e4f6-732e3448e08b",
        "colab": {
          "base_uri": "https://localhost:8080/",
          "height": 34
        }
      },
      "source": [
        "reviews =[]\n",
        "with open(file_name) as f:\n",
        "  for line in f:\n",
        "    review =json.loads(line)\n",
        "    reviews.append((review['reviewText'], review['overall']))\n",
        "reviews[5]\n",
        "len(reviews)"
      ],
      "execution_count": 0,
      "outputs": [
        {
          "output_type": "execute_result",
          "data": {
            "text/plain": [
              "10000"
            ]
          },
          "metadata": {
            "tags": []
          },
          "execution_count": 13
        }
      ]
    },
    {
      "cell_type": "markdown",
      "metadata": {
        "id": "LCM1ACiefs04",
        "colab_type": "text"
      },
      "source": [
        "\n",
        "\n",
        "I repeated the same process for the following files: \"Books,\" \"Electronics,\" and \"Sports and Outdoors.\"\n",
        "Now we parsed the datasets. Let’s see how we can apply Machine Learning models to analyze customer feedback data. \n",
        "For a guide on this, please see the next code snippet.\n"
      ]
    }
  ]
}